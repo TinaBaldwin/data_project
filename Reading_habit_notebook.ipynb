{
 "cells": [
  {
   "cell_type": "markdown",
   "metadata": {},
   "source": [
    "# Objective: Analyze how age, employment status, and income relate to number of books an individual reads per month. \n",
    "\n",
    "## This data source comes from [https://www.kaggle.com/datasets/vipulgote4/reading-habit-dataset/data](https://www.kaggle.com/datasets/vipulgote4/reading-habit-dataset/data).\n",
    "\n",
    "### This data might answer the objective because it contains data for almost 3000 individuals on their reading habits, personal income, employment status, age and other information."
   ]
  },
  {
   "cell_type": "markdown",
   "metadata": {},
   "source": [
    "#### The following code cell uses Pandas to load the data Reading-Habit-Dataset."
   ]
  },
  {
   "cell_type": "code",
   "execution_count": 616,
   "metadata": {},
   "outputs": [],
   "source": [
    "import pandas as pd\n",
    "read_habit = pd.read_csv('Reading_habit_datasetB.csv')\n",
    "import numpy as np\n",
    "import seaborn as sns\n",
    "import matplotlib.pyplot as plt\n",
    "from scipy.stats import pearsonr\n",
    "from scipy.stats import f_oneway\n",
    "from scipy import stats\n"
   ]
  },
  {
   "cell_type": "markdown",
   "metadata": {},
   "source": [
    "#### Let's start looking at the dataframe by displaying the first few rows.  "
   ]
  },
  {
   "cell_type": "code",
   "execution_count": 617,
   "metadata": {},
   "outputs": [
    {
     "data": {
      "text/html": [
       "<div>\n",
       "<style scoped>\n",
       "    .dataframe tbody tr th:only-of-type {\n",
       "        vertical-align: middle;\n",
       "    }\n",
       "\n",
       "    .dataframe tbody tr th {\n",
       "        vertical-align: top;\n",
       "    }\n",
       "\n",
       "    .dataframe thead th {\n",
       "        text-align: right;\n",
       "    }\n",
       "</style>\n",
       "<table border=\"1\" class=\"dataframe\">\n",
       "  <thead>\n",
       "    <tr style=\"text-align: right;\">\n",
       "      <th></th>\n",
       "      <th>Age</th>\n",
       "      <th>Sex</th>\n",
       "      <th>Race</th>\n",
       "      <th>Marital status?</th>\n",
       "      <th>Education</th>\n",
       "      <th>Employement</th>\n",
       "      <th>Incomes</th>\n",
       "      <th>How many books did you read during last 12months?</th>\n",
       "      <th>Read any printed books during last 12months?</th>\n",
       "      <th>Read any audiobooks during last 12months?</th>\n",
       "      <th>Read any e-books during last 12months?</th>\n",
       "      <th>Last book you read, you…</th>\n",
       "      <th>Do you happen to read any daily news or newspapers?</th>\n",
       "      <th>Do you happen to read any magazines or journals?</th>\n",
       "    </tr>\n",
       "  </thead>\n",
       "  <tbody>\n",
       "    <tr>\n",
       "      <th>0</th>\n",
       "      <td>66</td>\n",
       "      <td>Male</td>\n",
       "      <td>Refused</td>\n",
       "      <td>Divorced</td>\n",
       "      <td>College graduate</td>\n",
       "      <td>Retired</td>\n",
       "      <td>$20,000 to under $30,000</td>\n",
       "      <td>97</td>\n",
       "      <td>Yes</td>\n",
       "      <td>No</td>\n",
       "      <td>Yes</td>\n",
       "      <td>Purchased the book</td>\n",
       "      <td>No</td>\n",
       "      <td>Yes</td>\n",
       "    </tr>\n",
       "    <tr>\n",
       "      <th>1</th>\n",
       "      <td>46</td>\n",
       "      <td>Male</td>\n",
       "      <td>Native American/American Indian</td>\n",
       "      <td>Married</td>\n",
       "      <td>High school graduate</td>\n",
       "      <td>Employed full-time</td>\n",
       "      <td>Less than $10,000</td>\n",
       "      <td>97</td>\n",
       "      <td>Yes</td>\n",
       "      <td>Yes</td>\n",
       "      <td>Yes</td>\n",
       "      <td>Purchased the book</td>\n",
       "      <td>Yes</td>\n",
       "      <td>Yes</td>\n",
       "    </tr>\n",
       "    <tr>\n",
       "      <th>2</th>\n",
       "      <td>32</td>\n",
       "      <td>Male</td>\n",
       "      <td>Mixed race</td>\n",
       "      <td>Never been married</td>\n",
       "      <td>High school graduate</td>\n",
       "      <td>Employed full-time</td>\n",
       "      <td>Less than $10,000</td>\n",
       "      <td>97</td>\n",
       "      <td>No</td>\n",
       "      <td>Yes</td>\n",
       "      <td>Yes</td>\n",
       "      <td>Borrowed the book from a friend or family member</td>\n",
       "      <td>Yes</td>\n",
       "      <td>Yes</td>\n",
       "    </tr>\n",
       "    <tr>\n",
       "      <th>3</th>\n",
       "      <td>27</td>\n",
       "      <td>Male</td>\n",
       "      <td>Mixed race</td>\n",
       "      <td>Married</td>\n",
       "      <td>High school graduate</td>\n",
       "      <td>Employed full-time</td>\n",
       "      <td>$40,000 to under $50,000</td>\n",
       "      <td>97</td>\n",
       "      <td>Yes</td>\n",
       "      <td>No</td>\n",
       "      <td>Yes</td>\n",
       "      <td>Borrowed the book from a library</td>\n",
       "      <td>Yes</td>\n",
       "      <td>No</td>\n",
       "    </tr>\n",
       "    <tr>\n",
       "      <th>4</th>\n",
       "      <td>16</td>\n",
       "      <td>Female</td>\n",
       "      <td>Mixed race</td>\n",
       "      <td>Never been married</td>\n",
       "      <td>High school incomplete</td>\n",
       "      <td>Employed part-time</td>\n",
       "      <td>$10,000 to under $20,000</td>\n",
       "      <td>97</td>\n",
       "      <td>Yes</td>\n",
       "      <td>Yes</td>\n",
       "      <td>No</td>\n",
       "      <td>Purchased the book</td>\n",
       "      <td>Yes</td>\n",
       "      <td>No</td>\n",
       "    </tr>\n",
       "  </tbody>\n",
       "</table>\n",
       "</div>"
      ],
      "text/plain": [
       "   Age     Sex                             Race     Marital status?  \\\n",
       "0   66    Male                          Refused            Divorced   \n",
       "1   46    Male  Native American/American Indian             Married   \n",
       "2   32    Male                       Mixed race  Never been married   \n",
       "3   27    Male                       Mixed race             Married   \n",
       "4   16  Female                       Mixed race  Never been married   \n",
       "\n",
       "                Education         Employement                   Incomes  \\\n",
       "0        College graduate             Retired  $20,000 to under $30,000   \n",
       "1    High school graduate  Employed full-time         Less than $10,000   \n",
       "2    High school graduate  Employed full-time         Less than $10,000   \n",
       "3    High school graduate  Employed full-time  $40,000 to under $50,000   \n",
       "4  High school incomplete  Employed part-time  $10,000 to under $20,000   \n",
       "\n",
       "   How many books did you read during last 12months?  \\\n",
       "0                                                 97   \n",
       "1                                                 97   \n",
       "2                                                 97   \n",
       "3                                                 97   \n",
       "4                                                 97   \n",
       "\n",
       "  Read any printed books during last 12months?  \\\n",
       "0                                          Yes   \n",
       "1                                          Yes   \n",
       "2                                           No   \n",
       "3                                          Yes   \n",
       "4                                          Yes   \n",
       "\n",
       "  Read any audiobooks during last 12months?  \\\n",
       "0                                        No   \n",
       "1                                       Yes   \n",
       "2                                       Yes   \n",
       "3                                        No   \n",
       "4                                       Yes   \n",
       "\n",
       "  Read any e-books during last 12months?  \\\n",
       "0                                    Yes   \n",
       "1                                    Yes   \n",
       "2                                    Yes   \n",
       "3                                    Yes   \n",
       "4                                     No   \n",
       "\n",
       "                           Last book you read, you…  \\\n",
       "0                                Purchased the book   \n",
       "1                                Purchased the book   \n",
       "2  Borrowed the book from a friend or family member   \n",
       "3                  Borrowed the book from a library   \n",
       "4                                Purchased the book   \n",
       "\n",
       "  Do you happen to read any daily news or newspapers?  \\\n",
       "0                                                 No    \n",
       "1                                                Yes    \n",
       "2                                                Yes    \n",
       "3                                                Yes    \n",
       "4                                                Yes    \n",
       "\n",
       "  Do you happen to read any magazines or journals?  \n",
       "0                                              Yes  \n",
       "1                                              Yes  \n",
       "2                                              Yes  \n",
       "3                                               No  \n",
       "4                                               No  "
      ]
     },
     "execution_count": 617,
     "metadata": {},
     "output_type": "execute_result"
    }
   ],
   "source": [
    "read_habit.head()"
   ]
  },
  {
   "cell_type": "markdown",
   "metadata": {},
   "source": [
    "#### Now let's look at the last few rows of the dataframe. "
   ]
  },
  {
   "cell_type": "code",
   "execution_count": 618,
   "metadata": {},
   "outputs": [
    {
     "data": {
      "text/html": [
       "<div>\n",
       "<style scoped>\n",
       "    .dataframe tbody tr th:only-of-type {\n",
       "        vertical-align: middle;\n",
       "    }\n",
       "\n",
       "    .dataframe tbody tr th {\n",
       "        vertical-align: top;\n",
       "    }\n",
       "\n",
       "    .dataframe thead th {\n",
       "        text-align: right;\n",
       "    }\n",
       "</style>\n",
       "<table border=\"1\" class=\"dataframe\">\n",
       "  <thead>\n",
       "    <tr style=\"text-align: right;\">\n",
       "      <th></th>\n",
       "      <th>Age</th>\n",
       "      <th>Sex</th>\n",
       "      <th>Race</th>\n",
       "      <th>Marital status?</th>\n",
       "      <th>Education</th>\n",
       "      <th>Employement</th>\n",
       "      <th>Incomes</th>\n",
       "      <th>How many books did you read during last 12months?</th>\n",
       "      <th>Read any printed books during last 12months?</th>\n",
       "      <th>Read any audiobooks during last 12months?</th>\n",
       "      <th>Read any e-books during last 12months?</th>\n",
       "      <th>Last book you read, you…</th>\n",
       "      <th>Do you happen to read any daily news or newspapers?</th>\n",
       "      <th>Do you happen to read any magazines or journals?</th>\n",
       "    </tr>\n",
       "  </thead>\n",
       "  <tbody>\n",
       "    <tr>\n",
       "      <th>2827</th>\n",
       "      <td>18</td>\n",
       "      <td>Male</td>\n",
       "      <td>White</td>\n",
       "      <td>Never been married</td>\n",
       "      <td>High school graduate</td>\n",
       "      <td>Employed part-time</td>\n",
       "      <td>$75,000 to under $100,000</td>\n",
       "      <td>0</td>\n",
       "      <td>NaN</td>\n",
       "      <td>NaN</td>\n",
       "      <td>NaN</td>\n",
       "      <td>NaN</td>\n",
       "      <td>Yes</td>\n",
       "      <td>Yes</td>\n",
       "    </tr>\n",
       "    <tr>\n",
       "      <th>2828</th>\n",
       "      <td>17</td>\n",
       "      <td>Male</td>\n",
       "      <td>White</td>\n",
       "      <td>Never been married</td>\n",
       "      <td>High school incomplete</td>\n",
       "      <td>Employed part-time</td>\n",
       "      <td>$30,000 to under $40,000</td>\n",
       "      <td>0</td>\n",
       "      <td>NaN</td>\n",
       "      <td>NaN</td>\n",
       "      <td>NaN</td>\n",
       "      <td>NaN</td>\n",
       "      <td>Yes</td>\n",
       "      <td>No</td>\n",
       "    </tr>\n",
       "    <tr>\n",
       "      <th>2829</th>\n",
       "      <td>17</td>\n",
       "      <td>Female</td>\n",
       "      <td>White</td>\n",
       "      <td>Never been married</td>\n",
       "      <td>High school incomplete</td>\n",
       "      <td>Not employed for pay</td>\n",
       "      <td>9$100,000 to under $150,000</td>\n",
       "      <td>0</td>\n",
       "      <td>NaN</td>\n",
       "      <td>NaN</td>\n",
       "      <td>NaN</td>\n",
       "      <td>NaN</td>\n",
       "      <td>No</td>\n",
       "      <td>Yes</td>\n",
       "    </tr>\n",
       "    <tr>\n",
       "      <th>2830</th>\n",
       "      <td>16</td>\n",
       "      <td>Male</td>\n",
       "      <td>White</td>\n",
       "      <td>Never been married</td>\n",
       "      <td>High school graduate</td>\n",
       "      <td>Not employed for pay</td>\n",
       "      <td>9$100,000 to under $150,000</td>\n",
       "      <td>0</td>\n",
       "      <td>NaN</td>\n",
       "      <td>NaN</td>\n",
       "      <td>NaN</td>\n",
       "      <td>NaN</td>\n",
       "      <td>No</td>\n",
       "      <td>No</td>\n",
       "    </tr>\n",
       "    <tr>\n",
       "      <th>2831</th>\n",
       "      <td>16</td>\n",
       "      <td>Male</td>\n",
       "      <td>White</td>\n",
       "      <td>Never been married</td>\n",
       "      <td>Don’t know</td>\n",
       "      <td>Not employed for pay</td>\n",
       "      <td>Refused</td>\n",
       "      <td>0</td>\n",
       "      <td>NaN</td>\n",
       "      <td>NaN</td>\n",
       "      <td>NaN</td>\n",
       "      <td>NaN</td>\n",
       "      <td>No</td>\n",
       "      <td>No</td>\n",
       "    </tr>\n",
       "  </tbody>\n",
       "</table>\n",
       "</div>"
      ],
      "text/plain": [
       "      Age     Sex   Race     Marital status?               Education  \\\n",
       "2827   18    Male  White  Never been married    High school graduate   \n",
       "2828   17    Male  White  Never been married  High school incomplete   \n",
       "2829   17  Female  White  Never been married  High school incomplete   \n",
       "2830   16    Male  White  Never been married    High school graduate   \n",
       "2831   16    Male  White  Never been married              Don’t know   \n",
       "\n",
       "               Employement                      Incomes  \\\n",
       "2827    Employed part-time    $75,000 to under $100,000   \n",
       "2828    Employed part-time     $30,000 to under $40,000   \n",
       "2829  Not employed for pay  9$100,000 to under $150,000   \n",
       "2830  Not employed for pay  9$100,000 to under $150,000   \n",
       "2831  Not employed for pay                      Refused   \n",
       "\n",
       "      How many books did you read during last 12months?  \\\n",
       "2827                                                  0   \n",
       "2828                                                  0   \n",
       "2829                                                  0   \n",
       "2830                                                  0   \n",
       "2831                                                  0   \n",
       "\n",
       "     Read any printed books during last 12months?  \\\n",
       "2827                                          NaN   \n",
       "2828                                          NaN   \n",
       "2829                                          NaN   \n",
       "2830                                          NaN   \n",
       "2831                                          NaN   \n",
       "\n",
       "     Read any audiobooks during last 12months?  \\\n",
       "2827                                       NaN   \n",
       "2828                                       NaN   \n",
       "2829                                       NaN   \n",
       "2830                                       NaN   \n",
       "2831                                       NaN   \n",
       "\n",
       "     Read any e-books during last 12months? Last book you read, you…  \\\n",
       "2827                                    NaN                      NaN   \n",
       "2828                                    NaN                      NaN   \n",
       "2829                                    NaN                      NaN   \n",
       "2830                                    NaN                      NaN   \n",
       "2831                                    NaN                      NaN   \n",
       "\n",
       "     Do you happen to read any daily news or newspapers?  \\\n",
       "2827                                                Yes    \n",
       "2828                                                Yes    \n",
       "2829                                                 No    \n",
       "2830                                                 No    \n",
       "2831                                                 No    \n",
       "\n",
       "     Do you happen to read any magazines or journals?  \n",
       "2827                                              Yes  \n",
       "2828                                               No  \n",
       "2829                                              Yes  \n",
       "2830                                               No  \n",
       "2831                                               No  "
      ]
     },
     "execution_count": 618,
     "metadata": {},
     "output_type": "execute_result"
    }
   ],
   "source": [
    "read_habit.tail()"
   ]
  },
  {
   "cell_type": "markdown",
   "metadata": {},
   "source": [
    "#### Let's look at the shape of the dataframe - how many row and columns does it have. "
   ]
  },
  {
   "cell_type": "code",
   "execution_count": 619,
   "metadata": {},
   "outputs": [
    {
     "name": "stdout",
     "output_type": "stream",
     "text": [
      "The Dataframe has 2832 rows and 14 columns.\n"
     ]
    }
   ],
   "source": [
    "df_shape = read_habit.shape\n",
    "\n",
    "print(f'The Dataframe has {df_shape[0]} rows and {df_shape[1]} columns.')"
   ]
  },
  {
   "cell_type": "markdown",
   "metadata": {},
   "source": [
    "#### Here is a summary of the dataframe showing data structure, row count, column details. "
   ]
  },
  {
   "cell_type": "code",
   "execution_count": 620,
   "metadata": {},
   "outputs": [
    {
     "name": "stdout",
     "output_type": "stream",
     "text": [
      "<class 'pandas.core.frame.DataFrame'>\n",
      "RangeIndex: 2832 entries, 0 to 2831\n",
      "Data columns (total 14 columns):\n",
      " #   Column                                               Non-Null Count  Dtype \n",
      "---  ------                                               --------------  ----- \n",
      " 0   Age                                                  2832 non-null   int64 \n",
      " 1   Sex                                                  2832 non-null   object\n",
      " 2   Race                                                 2832 non-null   object\n",
      " 3   Marital status?                                      2832 non-null   object\n",
      " 4   Education                                            2774 non-null   object\n",
      " 5   Employement                                          2832 non-null   object\n",
      " 6   Incomes                                              2832 non-null   object\n",
      " 7   How many books did you read during last 12months?    2832 non-null   int64 \n",
      " 8   Read any printed books during last 12months?         2442 non-null   object\n",
      " 9   Read any audiobooks during last 12months?            2442 non-null   object\n",
      " 10  Read any e-books during last 12months?               2442 non-null   object\n",
      " 11  Last book you read, you…                             2442 non-null   object\n",
      " 12  Do you happen to read any daily news or newspapers?  2832 non-null   object\n",
      " 13  Do you happen to read any magazines or journals?     2832 non-null   object\n",
      "dtypes: int64(2), object(12)\n",
      "memory usage: 309.9+ KB\n"
     ]
    }
   ],
   "source": [
    "read_habit.info()"
   ]
  },
  {
   "cell_type": "markdown",
   "metadata": {},
   "source": [
    "#### Let's view a statistical summary of the unaltered/uncleaned dataframe. "
   ]
  },
  {
   "cell_type": "code",
   "execution_count": 621,
   "metadata": {},
   "outputs": [
    {
     "data": {
      "text/html": [
       "<div>\n",
       "<style scoped>\n",
       "    .dataframe tbody tr th:only-of-type {\n",
       "        vertical-align: middle;\n",
       "    }\n",
       "\n",
       "    .dataframe tbody tr th {\n",
       "        vertical-align: top;\n",
       "    }\n",
       "\n",
       "    .dataframe thead th {\n",
       "        text-align: right;\n",
       "    }\n",
       "</style>\n",
       "<table border=\"1\" class=\"dataframe\">\n",
       "  <thead>\n",
       "    <tr style=\"text-align: right;\">\n",
       "      <th></th>\n",
       "      <th>Age</th>\n",
       "      <th>How many books did you read during last 12months?</th>\n",
       "    </tr>\n",
       "  </thead>\n",
       "  <tbody>\n",
       "    <tr>\n",
       "      <th>count</th>\n",
       "      <td>2832.000000</td>\n",
       "      <td>2832.000000</td>\n",
       "    </tr>\n",
       "    <tr>\n",
       "      <th>mean</th>\n",
       "      <td>47.276483</td>\n",
       "      <td>16.676201</td>\n",
       "    </tr>\n",
       "    <tr>\n",
       "      <th>std</th>\n",
       "      <td>18.565516</td>\n",
       "      <td>23.632071</td>\n",
       "    </tr>\n",
       "    <tr>\n",
       "      <th>min</th>\n",
       "      <td>16.000000</td>\n",
       "      <td>0.000000</td>\n",
       "    </tr>\n",
       "    <tr>\n",
       "      <th>25%</th>\n",
       "      <td>32.000000</td>\n",
       "      <td>2.750000</td>\n",
       "    </tr>\n",
       "    <tr>\n",
       "      <th>50%</th>\n",
       "      <td>48.000000</td>\n",
       "      <td>6.000000</td>\n",
       "    </tr>\n",
       "    <tr>\n",
       "      <th>75%</th>\n",
       "      <td>62.000000</td>\n",
       "      <td>20.000000</td>\n",
       "    </tr>\n",
       "    <tr>\n",
       "      <th>max</th>\n",
       "      <td>93.000000</td>\n",
       "      <td>97.000000</td>\n",
       "    </tr>\n",
       "  </tbody>\n",
       "</table>\n",
       "</div>"
      ],
      "text/plain": [
       "               Age  How many books did you read during last 12months?\n",
       "count  2832.000000                                        2832.000000\n",
       "mean     47.276483                                          16.676201\n",
       "std      18.565516                                          23.632071\n",
       "min      16.000000                                           0.000000\n",
       "25%      32.000000                                           2.750000\n",
       "50%      48.000000                                           6.000000\n",
       "75%      62.000000                                          20.000000\n",
       "max      93.000000                                          97.000000"
      ]
     },
     "execution_count": 621,
     "metadata": {},
     "output_type": "execute_result"
    }
   ],
   "source": [
    "read_habit.describe()"
   ]
  },
  {
   "cell_type": "markdown",
   "metadata": {},
   "source": [
    "#### Let's determine if there are rows and columns with null values. There are null values present in this dataframe."
   ]
  },
  {
   "cell_type": "code",
   "execution_count": 622,
   "metadata": {},
   "outputs": [
    {
     "name": "stdout",
     "output_type": "stream",
     "text": [
      "True\n"
     ]
    }
   ],
   "source": [
    "print(read_habit.isnull().any().any())"
   ]
  },
  {
   "cell_type": "markdown",
   "metadata": {},
   "source": [
    "#### Now let's find out which columns of the dataframe have null values. "
   ]
  },
  {
   "cell_type": "code",
   "execution_count": 623,
   "metadata": {},
   "outputs": [
    {
     "data": {
      "text/plain": [
       "Age                                                    False\n",
       "Sex                                                    False\n",
       "Race                                                   False\n",
       "Marital status?                                        False\n",
       "Education                                               True\n",
       "Employement                                            False\n",
       "Incomes                                                False\n",
       "How many books did you read during last 12months?      False\n",
       "Read any printed books during last 12months?            True\n",
       "Read any audiobooks during last 12months?               True\n",
       "Read any e-books during last 12months?                  True\n",
       "Last book you read, you…                                True\n",
       "Do you happen to read any daily news or newspapers?    False\n",
       "Do you happen to read any magazines or journals?       False\n",
       "dtype: bool"
      ]
     },
     "execution_count": 623,
     "metadata": {},
     "output_type": "execute_result"
    }
   ],
   "source": [
    "read_habit.isnull().any(axis = 0)"
   ]
  },
  {
   "cell_type": "markdown",
   "metadata": {},
   "source": [
    "#### Let's now look at a list of the columns in the dataframe. "
   ]
  },
  {
   "cell_type": "code",
   "execution_count": 624,
   "metadata": {},
   "outputs": [
    {
     "data": {
      "text/plain": [
       "Index(['Age', 'Sex', 'Race', 'Marital status?', 'Education', 'Employement',\n",
       "       'Incomes', 'How many books did you read during last 12months?',\n",
       "       'Read any printed books during last 12months?',\n",
       "       'Read any audiobooks during last 12months?',\n",
       "       'Read any e-books during last 12months?', 'Last book you read, you…',\n",
       "       'Do you happen to read any daily news or newspapers?',\n",
       "       'Do you happen to read any magazines or journals?'],\n",
       "      dtype='object')"
      ]
     },
     "execution_count": 624,
     "metadata": {},
     "output_type": "execute_result"
    }
   ],
   "source": [
    "read_habit.columns"
   ]
  },
  {
   "cell_type": "markdown",
   "metadata": {},
   "source": [
    "#### Let's show the dataframe columns as a list. "
   ]
  },
  {
   "cell_type": "code",
   "execution_count": 625,
   "metadata": {},
   "outputs": [
    {
     "data": {
      "text/plain": [
       "['Age',\n",
       " 'Sex',\n",
       " 'Race',\n",
       " 'Marital status?',\n",
       " 'Education',\n",
       " 'Employement',\n",
       " 'Incomes',\n",
       " 'How many books did you read during last 12months?',\n",
       " 'Read any printed books during last 12months?',\n",
       " 'Read any audiobooks during last 12months?',\n",
       " 'Read any e-books during last 12months?',\n",
       " 'Last book you read, you…',\n",
       " 'Do you happen to read any daily news or newspapers?',\n",
       " 'Do you happen to read any magazines or journals?']"
      ]
     },
     "execution_count": 625,
     "metadata": {},
     "output_type": "execute_result"
    }
   ],
   "source": [
    "list(read_habit.columns)"
   ]
  },
  {
   "cell_type": "markdown",
   "metadata": {},
   "source": [
    "#### Let's fix the spelling error of the column 'Employement' and change some of the other column titles to increase readability."
   ]
  },
  {
   "cell_type": "code",
   "execution_count": 626,
   "metadata": {},
   "outputs": [
    {
     "data": {
      "text/plain": [
       "Index(['Age', 'Gender', 'Race', 'Marital status', 'Education', 'Employment',\n",
       "       'Income', 'Num bks rd last 12 mos',\n",
       "       'Read any printed books during last 12months?',\n",
       "       'Read any audiobooks during last 12months?',\n",
       "       'Read any e-books during last 12months?', 'How obtained last bk rd',\n",
       "       'Do you happen to read any daily news or newspapers?',\n",
       "       'Do you happen to read any magazines or journals?'],\n",
       "      dtype='object')"
      ]
     },
     "execution_count": 626,
     "metadata": {},
     "output_type": "execute_result"
    }
   ],
   "source": [
    "read_habit.rename(columns={'Employement' : 'Employment', \n",
    "                           'Incomes' : 'Income', \n",
    "                           'Marital status?' : 'Marital status', \n",
    "                           'How many books did you read during last 12months?' : 'Num bks rd last 12 mos',\n",
    "                           'Sex' : 'Gender',\n",
    "                           'Last book you read, you…' : 'How obtained last bk rd'\n",
    "                           },\n",
    "                           inplace = True)\n",
    "read_habit.columns\n"
   ]
  },
  {
   "cell_type": "markdown",
   "metadata": {},
   "source": [
    "#### Let's see how many results are for each status in each range of the Income column."
   ]
  },
  {
   "cell_type": "code",
   "execution_count": 627,
   "metadata": {},
   "outputs": [
    {
     "data": {
      "text/plain": [
       "Income\n",
       "$100,000 to under $150,000     530\n",
       "$50,000 to under $75,000       394\n",
       "$75,000 to under $100,000      316\n",
       "Refused                        291\n",
       "$30,000 to under $40,000       265\n",
       "$20,000 to under $30,000       238\n",
       "$10,000 to under $20,000       216\n",
       "9$100,000 to under $150,000    212\n",
       "$40,000 to under $50,000       207\n",
       "Less than $10,000              163\n",
       "Name: count, dtype: int64"
      ]
     },
     "execution_count": 627,
     "metadata": {},
     "output_type": "execute_result"
    }
   ],
   "source": [
    "read_habit['Income'].value_counts()"
   ]
  },
  {
   "cell_type": "markdown",
   "metadata": {},
   "source": [
    "#### Let's correct the typo in the Income column entries '9$100,000 to under $150,000' by removing the 9 in front of the dollar sign."
   ]
  },
  {
   "cell_type": "code",
   "execution_count": 628,
   "metadata": {},
   "outputs": [
    {
     "data": {
      "text/plain": [
       "0         $20,000 to under $30,000\n",
       "1                Less than $10,000\n",
       "2                Less than $10,000\n",
       "3         $40,000 to under $50,000\n",
       "4         $10,000 to under $20,000\n",
       "                   ...            \n",
       "2827     $75,000 to under $100,000\n",
       "2828      $30,000 to under $40,000\n",
       "2829    $100,000 to under $150,000\n",
       "2830    $100,000 to under $150,000\n",
       "2831                       Refused\n",
       "Name: Income, Length: 2832, dtype: object"
      ]
     },
     "execution_count": 628,
     "metadata": {},
     "output_type": "execute_result"
    }
   ],
   "source": [
    "read_habit['Income'] = read_habit['Income'].replace(r'^9\\$', '$', regex=True)\n",
    "\n",
    "read_habit['Income']"
   ]
  },
  {
   "cell_type": "markdown",
   "metadata": {},
   "source": [
    "#### Let's clean up the income data by creating a new column with a single numerical value for income. Let's use a function to create a new column called midpoint to hold the midpoint income from the 'Income' column. "
   ]
  },
  {
   "cell_type": "code",
   "execution_count": 629,
   "metadata": {},
   "outputs": [
    {
     "data": {
      "text/html": [
       "<div>\n",
       "<style scoped>\n",
       "    .dataframe tbody tr th:only-of-type {\n",
       "        vertical-align: middle;\n",
       "    }\n",
       "\n",
       "    .dataframe tbody tr th {\n",
       "        vertical-align: top;\n",
       "    }\n",
       "\n",
       "    .dataframe thead th {\n",
       "        text-align: right;\n",
       "    }\n",
       "</style>\n",
       "<table border=\"1\" class=\"dataframe\">\n",
       "  <thead>\n",
       "    <tr style=\"text-align: right;\">\n",
       "      <th></th>\n",
       "      <th>Age</th>\n",
       "      <th>Gender</th>\n",
       "      <th>Race</th>\n",
       "      <th>Marital status</th>\n",
       "      <th>Education</th>\n",
       "      <th>Employment</th>\n",
       "      <th>Income</th>\n",
       "      <th>Num bks rd last 12 mos</th>\n",
       "      <th>Read any printed books during last 12months?</th>\n",
       "      <th>Read any audiobooks during last 12months?</th>\n",
       "      <th>Read any e-books during last 12months?</th>\n",
       "      <th>How obtained last bk rd</th>\n",
       "      <th>Do you happen to read any daily news or newspapers?</th>\n",
       "      <th>Do you happen to read any magazines or journals?</th>\n",
       "      <th>Midpoint Income</th>\n",
       "    </tr>\n",
       "  </thead>\n",
       "  <tbody>\n",
       "    <tr>\n",
       "      <th>0</th>\n",
       "      <td>66</td>\n",
       "      <td>Male</td>\n",
       "      <td>Refused</td>\n",
       "      <td>Divorced</td>\n",
       "      <td>College graduate</td>\n",
       "      <td>Retired</td>\n",
       "      <td>$20,000 to under $30,000</td>\n",
       "      <td>97</td>\n",
       "      <td>Yes</td>\n",
       "      <td>No</td>\n",
       "      <td>Yes</td>\n",
       "      <td>Purchased the book</td>\n",
       "      <td>No</td>\n",
       "      <td>Yes</td>\n",
       "      <td>25000.0</td>\n",
       "    </tr>\n",
       "    <tr>\n",
       "      <th>1</th>\n",
       "      <td>46</td>\n",
       "      <td>Male</td>\n",
       "      <td>Native American/American Indian</td>\n",
       "      <td>Married</td>\n",
       "      <td>High school graduate</td>\n",
       "      <td>Employed full-time</td>\n",
       "      <td>Less than $10,000</td>\n",
       "      <td>97</td>\n",
       "      <td>Yes</td>\n",
       "      <td>Yes</td>\n",
       "      <td>Yes</td>\n",
       "      <td>Purchased the book</td>\n",
       "      <td>Yes</td>\n",
       "      <td>Yes</td>\n",
       "      <td>5000.0</td>\n",
       "    </tr>\n",
       "    <tr>\n",
       "      <th>2</th>\n",
       "      <td>32</td>\n",
       "      <td>Male</td>\n",
       "      <td>Mixed race</td>\n",
       "      <td>Never been married</td>\n",
       "      <td>High school graduate</td>\n",
       "      <td>Employed full-time</td>\n",
       "      <td>Less than $10,000</td>\n",
       "      <td>97</td>\n",
       "      <td>No</td>\n",
       "      <td>Yes</td>\n",
       "      <td>Yes</td>\n",
       "      <td>Borrowed the book from a friend or family member</td>\n",
       "      <td>Yes</td>\n",
       "      <td>Yes</td>\n",
       "      <td>5000.0</td>\n",
       "    </tr>\n",
       "    <tr>\n",
       "      <th>3</th>\n",
       "      <td>27</td>\n",
       "      <td>Male</td>\n",
       "      <td>Mixed race</td>\n",
       "      <td>Married</td>\n",
       "      <td>High school graduate</td>\n",
       "      <td>Employed full-time</td>\n",
       "      <td>$40,000 to under $50,000</td>\n",
       "      <td>97</td>\n",
       "      <td>Yes</td>\n",
       "      <td>No</td>\n",
       "      <td>Yes</td>\n",
       "      <td>Borrowed the book from a library</td>\n",
       "      <td>Yes</td>\n",
       "      <td>No</td>\n",
       "      <td>45000.0</td>\n",
       "    </tr>\n",
       "    <tr>\n",
       "      <th>4</th>\n",
       "      <td>16</td>\n",
       "      <td>Female</td>\n",
       "      <td>Mixed race</td>\n",
       "      <td>Never been married</td>\n",
       "      <td>High school incomplete</td>\n",
       "      <td>Employed part-time</td>\n",
       "      <td>$10,000 to under $20,000</td>\n",
       "      <td>97</td>\n",
       "      <td>Yes</td>\n",
       "      <td>Yes</td>\n",
       "      <td>No</td>\n",
       "      <td>Purchased the book</td>\n",
       "      <td>Yes</td>\n",
       "      <td>No</td>\n",
       "      <td>15000.0</td>\n",
       "    </tr>\n",
       "  </tbody>\n",
       "</table>\n",
       "</div>"
      ],
      "text/plain": [
       "   Age  Gender                             Race      Marital status  \\\n",
       "0   66    Male                          Refused            Divorced   \n",
       "1   46    Male  Native American/American Indian             Married   \n",
       "2   32    Male                       Mixed race  Never been married   \n",
       "3   27    Male                       Mixed race             Married   \n",
       "4   16  Female                       Mixed race  Never been married   \n",
       "\n",
       "                Education          Employment                    Income  \\\n",
       "0        College graduate             Retired  $20,000 to under $30,000   \n",
       "1    High school graduate  Employed full-time         Less than $10,000   \n",
       "2    High school graduate  Employed full-time         Less than $10,000   \n",
       "3    High school graduate  Employed full-time  $40,000 to under $50,000   \n",
       "4  High school incomplete  Employed part-time  $10,000 to under $20,000   \n",
       "\n",
       "   Num bks rd last 12 mos Read any printed books during last 12months?  \\\n",
       "0                      97                                          Yes   \n",
       "1                      97                                          Yes   \n",
       "2                      97                                           No   \n",
       "3                      97                                          Yes   \n",
       "4                      97                                          Yes   \n",
       "\n",
       "  Read any audiobooks during last 12months?  \\\n",
       "0                                        No   \n",
       "1                                       Yes   \n",
       "2                                       Yes   \n",
       "3                                        No   \n",
       "4                                       Yes   \n",
       "\n",
       "  Read any e-books during last 12months?  \\\n",
       "0                                    Yes   \n",
       "1                                    Yes   \n",
       "2                                    Yes   \n",
       "3                                    Yes   \n",
       "4                                     No   \n",
       "\n",
       "                            How obtained last bk rd  \\\n",
       "0                                Purchased the book   \n",
       "1                                Purchased the book   \n",
       "2  Borrowed the book from a friend or family member   \n",
       "3                  Borrowed the book from a library   \n",
       "4                                Purchased the book   \n",
       "\n",
       "  Do you happen to read any daily news or newspapers?  \\\n",
       "0                                                 No    \n",
       "1                                                Yes    \n",
       "2                                                Yes    \n",
       "3                                                Yes    \n",
       "4                                                Yes    \n",
       "\n",
       "  Do you happen to read any magazines or journals?  Midpoint Income  \n",
       "0                                              Yes          25000.0  \n",
       "1                                              Yes           5000.0  \n",
       "2                                              Yes           5000.0  \n",
       "3                                               No          45000.0  \n",
       "4                                               No          15000.0  "
      ]
     },
     "execution_count": 629,
     "metadata": {},
     "output_type": "execute_result"
    }
   ],
   "source": [
    "def get_midpoint(Income):\n",
    "    if Income == 'Refused':\n",
    "        return None   \n",
    "    if Income == 'Less than $10,000':\n",
    "        Income_midpoint = '$5000'\n",
    "    else:\n",
    "        Income_midpoint = Income\n",
    "    Income_midpoint = Income_midpoint.replace('$','').replace(',','')\n",
    "    if 'to' in Income_midpoint:\n",
    "        bounds = Income_midpoint.split(' to ')\n",
    "        lower = int(bounds[0])\n",
    "        if 'under' in bounds[1]:\n",
    "            upper = int(bounds[1].replace('under ', ''))\n",
    "        else:\n",
    "            upper = int(bounds[1])\n",
    "        return int((lower + upper) / 2)\n",
    "    else:\n",
    "        return int(Income_midpoint)\n",
    "\n",
    "read_habit['Midpoint Income'] = read_habit['Income'].apply(get_midpoint)\n",
    "\n",
    "read_habit.head()"
   ]
  },
  {
   "cell_type": "markdown",
   "metadata": {},
   "source": [
    "#### Let's look at the frequency each income level is located in the dataframe. The decimal point will be removed later when the NaN values are addressed in this column. "
   ]
  },
  {
   "cell_type": "code",
   "execution_count": 630,
   "metadata": {},
   "outputs": [
    {
     "data": {
      "text/plain": [
       "Midpoint Income\n",
       "125000.0    742\n",
       "62500.0     394\n",
       "87500.0     316\n",
       "35000.0     265\n",
       "25000.0     238\n",
       "15000.0     216\n",
       "45000.0     207\n",
       "5000.0      163\n",
       "Name: count, dtype: int64"
      ]
     },
     "execution_count": 630,
     "metadata": {},
     "output_type": "execute_result"
    }
   ],
   "source": [
    "read_habit['Midpoint Income'].value_counts()"
   ]
  },
  {
   "cell_type": "code",
   "execution_count": 631,
   "metadata": {},
   "outputs": [
    {
     "name": "stdout",
     "output_type": "stream",
     "text": [
      "291\n"
     ]
    }
   ],
   "source": [
    "print(read_habit['Midpoint Income'].isnull().sum())"
   ]
  },
  {
   "cell_type": "markdown",
   "metadata": {},
   "source": [
    "#### Above it was determined that the data type for the column, 'Gender', was object. Here is the frequency of each gender in the dataframe. "
   ]
  },
  {
   "cell_type": "code",
   "execution_count": 632,
   "metadata": {},
   "outputs": [
    {
     "data": {
      "text/plain": [
       "Gender\n",
       "Female    1479\n",
       "Male      1353\n",
       "Name: count, dtype: int64"
      ]
     },
     "execution_count": 632,
     "metadata": {},
     "output_type": "execute_result"
    }
   ],
   "source": [
    "read_habit['Gender'].value_counts()\n"
   ]
  },
  {
   "cell_type": "markdown",
   "metadata": {},
   "source": [
    "#### Above it was determined that the data type for the column, 'Marital status', was object. Here is the frequency of each marital status. "
   ]
  },
  {
   "cell_type": "code",
   "execution_count": 633,
   "metadata": {},
   "outputs": [
    {
     "data": {
      "text/plain": [
       "Marital status\n",
       "Married                  1532\n",
       "Never been married        592\n",
       "Divorced                  245\n",
       "Widowed                   191\n",
       "Living with a partner     141\n",
       "Single                     60\n",
       "Separated                  54\n",
       "Don’t know                 17\n",
       "Name: count, dtype: int64"
      ]
     },
     "execution_count": 633,
     "metadata": {},
     "output_type": "execute_result"
    }
   ],
   "source": [
    "read_habit['Marital status'].value_counts()"
   ]
  },
  {
   "cell_type": "code",
   "execution_count": 634,
   "metadata": {},
   "outputs": [
    {
     "data": {
      "text/plain": [
       "dtype('O')"
      ]
     },
     "execution_count": 634,
     "metadata": {},
     "output_type": "execute_result"
    }
   ],
   "source": [
    "read_habit['Marital status'].dtype"
   ]
  },
  {
   "cell_type": "markdown",
   "metadata": {},
   "source": [
    "#### Above it was determined that the data type for the column, 'Race', was object. Here is the frequency of each race. "
   ]
  },
  {
   "cell_type": "code",
   "execution_count": 635,
   "metadata": {},
   "outputs": [
    {
     "data": {
      "text/plain": [
       "Race\n",
       "White                              2217\n",
       "Black or African-American           347\n",
       "Asian or Pacific Islander            70\n",
       "Mixed race                           63\n",
       "Other                                58\n",
       "Refused                              37\n",
       "Native American/American Indian      31\n",
       "Don’t know                            9\n",
       "Name: count, dtype: int64"
      ]
     },
     "execution_count": 635,
     "metadata": {},
     "output_type": "execute_result"
    }
   ],
   "source": [
    "read_habit['Race'].value_counts()"
   ]
  },
  {
   "cell_type": "markdown",
   "metadata": {},
   "source": [
    "#### Above it was determined that the data type for the column, 'Education', was object. Here is the frequency of each Education status. "
   ]
  },
  {
   "cell_type": "code",
   "execution_count": 636,
   "metadata": {},
   "outputs": [
    {
     "data": {
      "text/plain": [
       "Education\n",
       "High school graduate                                        688\n",
       "Some college, no 4-year degree                              651\n",
       "College graduate                                            597\n",
       "Post-graduate training/professional school after college    501\n",
       "High school incomplete                                      263\n",
       "Technical, trade or vocational school AFTER high school      66\n",
       "Don’t know                                                    8\n",
       "Name: count, dtype: int64"
      ]
     },
     "execution_count": 636,
     "metadata": {},
     "output_type": "execute_result"
    }
   ],
   "source": [
    "read_habit['Education'].value_counts()"
   ]
  },
  {
   "cell_type": "markdown",
   "metadata": {},
   "source": [
    "#### Above it was determined that the data type for the column, 'Age', was int64. Here is the frequency of each age. "
   ]
  },
  {
   "cell_type": "code",
   "execution_count": 637,
   "metadata": {},
   "outputs": [
    {
     "data": {
      "text/plain": [
       "Age\n",
       "50    78\n",
       "65    76\n",
       "60    72\n",
       "47    70\n",
       "16    68\n",
       "      ..\n",
       "91     3\n",
       "89     2\n",
       "90     2\n",
       "92     2\n",
       "93     1\n",
       "Name: count, Length: 78, dtype: int64"
      ]
     },
     "execution_count": 637,
     "metadata": {},
     "output_type": "execute_result"
    }
   ],
   "source": [
    "read_habit['Age'].value_counts()"
   ]
  },
  {
   "cell_type": "markdown",
   "metadata": {},
   "source": [
    "#### Below creates a new column, 'Age group', that groups by age individuals into minors (under age 18), adults (age 18 to 64), and seniors (age 65+). "
   ]
  },
  {
   "cell_type": "code",
   "execution_count": 638,
   "metadata": {},
   "outputs": [
    {
     "data": {
      "text/html": [
       "<div>\n",
       "<style scoped>\n",
       "    .dataframe tbody tr th:only-of-type {\n",
       "        vertical-align: middle;\n",
       "    }\n",
       "\n",
       "    .dataframe tbody tr th {\n",
       "        vertical-align: top;\n",
       "    }\n",
       "\n",
       "    .dataframe thead th {\n",
       "        text-align: right;\n",
       "    }\n",
       "</style>\n",
       "<table border=\"1\" class=\"dataframe\">\n",
       "  <thead>\n",
       "    <tr style=\"text-align: right;\">\n",
       "      <th></th>\n",
       "      <th>Age</th>\n",
       "      <th>Gender</th>\n",
       "      <th>Race</th>\n",
       "      <th>Marital status</th>\n",
       "      <th>Education</th>\n",
       "      <th>Employment</th>\n",
       "      <th>Income</th>\n",
       "      <th>Num bks rd last 12 mos</th>\n",
       "      <th>Read any printed books during last 12months?</th>\n",
       "      <th>Read any audiobooks during last 12months?</th>\n",
       "      <th>Read any e-books during last 12months?</th>\n",
       "      <th>How obtained last bk rd</th>\n",
       "      <th>Do you happen to read any daily news or newspapers?</th>\n",
       "      <th>Do you happen to read any magazines or journals?</th>\n",
       "      <th>Midpoint Income</th>\n",
       "      <th>Age group</th>\n",
       "    </tr>\n",
       "  </thead>\n",
       "  <tbody>\n",
       "    <tr>\n",
       "      <th>0</th>\n",
       "      <td>66</td>\n",
       "      <td>Male</td>\n",
       "      <td>Refused</td>\n",
       "      <td>Divorced</td>\n",
       "      <td>College graduate</td>\n",
       "      <td>Retired</td>\n",
       "      <td>$20,000 to under $30,000</td>\n",
       "      <td>97</td>\n",
       "      <td>Yes</td>\n",
       "      <td>No</td>\n",
       "      <td>Yes</td>\n",
       "      <td>Purchased the book</td>\n",
       "      <td>No</td>\n",
       "      <td>Yes</td>\n",
       "      <td>25000.0</td>\n",
       "      <td>Senior</td>\n",
       "    </tr>\n",
       "    <tr>\n",
       "      <th>1</th>\n",
       "      <td>46</td>\n",
       "      <td>Male</td>\n",
       "      <td>Native American/American Indian</td>\n",
       "      <td>Married</td>\n",
       "      <td>High school graduate</td>\n",
       "      <td>Employed full-time</td>\n",
       "      <td>Less than $10,000</td>\n",
       "      <td>97</td>\n",
       "      <td>Yes</td>\n",
       "      <td>Yes</td>\n",
       "      <td>Yes</td>\n",
       "      <td>Purchased the book</td>\n",
       "      <td>Yes</td>\n",
       "      <td>Yes</td>\n",
       "      <td>5000.0</td>\n",
       "      <td>Adult</td>\n",
       "    </tr>\n",
       "    <tr>\n",
       "      <th>2</th>\n",
       "      <td>32</td>\n",
       "      <td>Male</td>\n",
       "      <td>Mixed race</td>\n",
       "      <td>Never been married</td>\n",
       "      <td>High school graduate</td>\n",
       "      <td>Employed full-time</td>\n",
       "      <td>Less than $10,000</td>\n",
       "      <td>97</td>\n",
       "      <td>No</td>\n",
       "      <td>Yes</td>\n",
       "      <td>Yes</td>\n",
       "      <td>Borrowed the book from a friend or family member</td>\n",
       "      <td>Yes</td>\n",
       "      <td>Yes</td>\n",
       "      <td>5000.0</td>\n",
       "      <td>Adult</td>\n",
       "    </tr>\n",
       "    <tr>\n",
       "      <th>3</th>\n",
       "      <td>27</td>\n",
       "      <td>Male</td>\n",
       "      <td>Mixed race</td>\n",
       "      <td>Married</td>\n",
       "      <td>High school graduate</td>\n",
       "      <td>Employed full-time</td>\n",
       "      <td>$40,000 to under $50,000</td>\n",
       "      <td>97</td>\n",
       "      <td>Yes</td>\n",
       "      <td>No</td>\n",
       "      <td>Yes</td>\n",
       "      <td>Borrowed the book from a library</td>\n",
       "      <td>Yes</td>\n",
       "      <td>No</td>\n",
       "      <td>45000.0</td>\n",
       "      <td>Adult</td>\n",
       "    </tr>\n",
       "    <tr>\n",
       "      <th>4</th>\n",
       "      <td>16</td>\n",
       "      <td>Female</td>\n",
       "      <td>Mixed race</td>\n",
       "      <td>Never been married</td>\n",
       "      <td>High school incomplete</td>\n",
       "      <td>Employed part-time</td>\n",
       "      <td>$10,000 to under $20,000</td>\n",
       "      <td>97</td>\n",
       "      <td>Yes</td>\n",
       "      <td>Yes</td>\n",
       "      <td>No</td>\n",
       "      <td>Purchased the book</td>\n",
       "      <td>Yes</td>\n",
       "      <td>No</td>\n",
       "      <td>15000.0</td>\n",
       "      <td>Child</td>\n",
       "    </tr>\n",
       "  </tbody>\n",
       "</table>\n",
       "</div>"
      ],
      "text/plain": [
       "   Age  Gender                             Race      Marital status  \\\n",
       "0   66    Male                          Refused            Divorced   \n",
       "1   46    Male  Native American/American Indian             Married   \n",
       "2   32    Male                       Mixed race  Never been married   \n",
       "3   27    Male                       Mixed race             Married   \n",
       "4   16  Female                       Mixed race  Never been married   \n",
       "\n",
       "                Education          Employment                    Income  \\\n",
       "0        College graduate             Retired  $20,000 to under $30,000   \n",
       "1    High school graduate  Employed full-time         Less than $10,000   \n",
       "2    High school graduate  Employed full-time         Less than $10,000   \n",
       "3    High school graduate  Employed full-time  $40,000 to under $50,000   \n",
       "4  High school incomplete  Employed part-time  $10,000 to under $20,000   \n",
       "\n",
       "   Num bks rd last 12 mos Read any printed books during last 12months?  \\\n",
       "0                      97                                          Yes   \n",
       "1                      97                                          Yes   \n",
       "2                      97                                           No   \n",
       "3                      97                                          Yes   \n",
       "4                      97                                          Yes   \n",
       "\n",
       "  Read any audiobooks during last 12months?  \\\n",
       "0                                        No   \n",
       "1                                       Yes   \n",
       "2                                       Yes   \n",
       "3                                        No   \n",
       "4                                       Yes   \n",
       "\n",
       "  Read any e-books during last 12months?  \\\n",
       "0                                    Yes   \n",
       "1                                    Yes   \n",
       "2                                    Yes   \n",
       "3                                    Yes   \n",
       "4                                     No   \n",
       "\n",
       "                            How obtained last bk rd  \\\n",
       "0                                Purchased the book   \n",
       "1                                Purchased the book   \n",
       "2  Borrowed the book from a friend or family member   \n",
       "3                  Borrowed the book from a library   \n",
       "4                                Purchased the book   \n",
       "\n",
       "  Do you happen to read any daily news or newspapers?  \\\n",
       "0                                                 No    \n",
       "1                                                Yes    \n",
       "2                                                Yes    \n",
       "3                                                Yes    \n",
       "4                                                Yes    \n",
       "\n",
       "  Do you happen to read any magazines or journals?  Midpoint Income Age group  \n",
       "0                                              Yes          25000.0    Senior  \n",
       "1                                              Yes           5000.0     Adult  \n",
       "2                                              Yes           5000.0     Adult  \n",
       "3                                               No          45000.0     Adult  \n",
       "4                                               No          15000.0     Child  "
      ]
     },
     "execution_count": 638,
     "metadata": {},
     "output_type": "execute_result"
    }
   ],
   "source": [
    "def Get_age_group(Age):\n",
    "    if Age <= 17:\n",
    "       return 'Child'\n",
    "    elif Age <= 64:\n",
    "        return 'Adult'\n",
    "    else:\n",
    "        return'Senior'\n",
    "    \n",
    "read_habit['Age group'] = read_habit['Age'].apply(Get_age_group)\n",
    "\n",
    "read_habit.head()"
   ]
  },
  {
   "cell_type": "markdown",
   "metadata": {},
   "source": [
    "#### The new 'Age group' column is of the data type object. "
   ]
  },
  {
   "cell_type": "code",
   "execution_count": 639,
   "metadata": {},
   "outputs": [
    {
     "name": "stdout",
     "output_type": "stream",
     "text": [
      "object\n"
     ]
    }
   ],
   "source": [
    "print(read_habit['Age group'].dtype)"
   ]
  },
  {
   "cell_type": "markdown",
   "metadata": {},
   "source": [
    "#### Above it was determined that the data type for the column, 'Employment', was object. Here is the frequency of each employment status. "
   ]
  },
  {
   "cell_type": "code",
   "execution_count": 640,
   "metadata": {},
   "outputs": [
    {
     "data": {
      "text/plain": [
       "Employment\n",
       "Employed full-time                 1238\n",
       "Retired                             605\n",
       "Not employed for pay                474\n",
       "Employed part-time                  355\n",
       "Disabled                             70\n",
       "Have own business/self-employed      53\n",
       "Student                              22\n",
       "Other                                15\n",
       "Name: count, dtype: int64"
      ]
     },
     "execution_count": 640,
     "metadata": {},
     "output_type": "execute_result"
    }
   ],
   "source": [
    "read_habit['Employment'].value_counts()"
   ]
  },
  {
   "cell_type": "markdown",
   "metadata": {},
   "source": [
    "#### Above it was determined that the data type for the column, 'Num bks rd last 12 mos', was int64. Here is the frequency of each entry for this column. "
   ]
  },
  {
   "cell_type": "code",
   "execution_count": 641,
   "metadata": {},
   "outputs": [
    {
     "data": {
      "text/plain": [
       "Num bks rd last 12 mos\n",
       "0     390\n",
       "3     209\n",
       "6     172\n",
       "2     169\n",
       "5     167\n",
       "4     166\n",
       "10    162\n",
       "20    159\n",
       "12    159\n",
       "1     149\n",
       "97    124\n",
       "30    109\n",
       "50    108\n",
       "15    103\n",
       "25     82\n",
       "8      69\n",
       "40     53\n",
       "7      49\n",
       "24     35\n",
       "60     19\n",
       "36     16\n",
       "96     15\n",
       "35     15\n",
       "75     14\n",
       "13     12\n",
       "16     11\n",
       "9      11\n",
       "18     10\n",
       "70     10\n",
       "14      9\n",
       "45      7\n",
       "80      6\n",
       "17      6\n",
       "48      5\n",
       "11      4\n",
       "32      3\n",
       "55      3\n",
       "47      2\n",
       "52      2\n",
       "90      2\n",
       "26      2\n",
       "65      2\n",
       "67      1\n",
       "76      1\n",
       "84      1\n",
       "54      1\n",
       "42      1\n",
       "43      1\n",
       "51      1\n",
       "19      1\n",
       "38      1\n",
       "22      1\n",
       "23      1\n",
       "37      1\n",
       "Name: count, dtype: int64"
      ]
     },
     "execution_count": 641,
     "metadata": {},
     "output_type": "execute_result"
    }
   ],
   "source": [
    "read_habit['Num bks rd last 12 mos'].value_counts()"
   ]
  },
  {
   "cell_type": "markdown",
   "metadata": {},
   "source": [
    "#### We will drop the columns asking if daily news, newspapers, magazines or journals, the columns about if the books were printed, audio or electronic, and how the books were obtained. The main purpose of the data analysis concerns books read. Daily news, newspapers, magazines and journals are usually shorter than books and are not of interest with this analysis project. It is not of interest if the books were printed, audio, or electronic or how the books were obtained. "
   ]
  },
  {
   "cell_type": "code",
   "execution_count": 642,
   "metadata": {},
   "outputs": [
    {
     "data": {
      "text/html": [
       "<div>\n",
       "<style scoped>\n",
       "    .dataframe tbody tr th:only-of-type {\n",
       "        vertical-align: middle;\n",
       "    }\n",
       "\n",
       "    .dataframe tbody tr th {\n",
       "        vertical-align: top;\n",
       "    }\n",
       "\n",
       "    .dataframe thead th {\n",
       "        text-align: right;\n",
       "    }\n",
       "</style>\n",
       "<table border=\"1\" class=\"dataframe\">\n",
       "  <thead>\n",
       "    <tr style=\"text-align: right;\">\n",
       "      <th></th>\n",
       "      <th>Age</th>\n",
       "      <th>Gender</th>\n",
       "      <th>Race</th>\n",
       "      <th>Marital status</th>\n",
       "      <th>Education</th>\n",
       "      <th>Employment</th>\n",
       "      <th>Income</th>\n",
       "      <th>Num bks rd last 12 mos</th>\n",
       "      <th>Midpoint Income</th>\n",
       "      <th>Age group</th>\n",
       "    </tr>\n",
       "  </thead>\n",
       "  <tbody>\n",
       "    <tr>\n",
       "      <th>0</th>\n",
       "      <td>66</td>\n",
       "      <td>Male</td>\n",
       "      <td>Refused</td>\n",
       "      <td>Divorced</td>\n",
       "      <td>College graduate</td>\n",
       "      <td>Retired</td>\n",
       "      <td>$20,000 to under $30,000</td>\n",
       "      <td>97</td>\n",
       "      <td>25000.0</td>\n",
       "      <td>Senior</td>\n",
       "    </tr>\n",
       "    <tr>\n",
       "      <th>1</th>\n",
       "      <td>46</td>\n",
       "      <td>Male</td>\n",
       "      <td>Native American/American Indian</td>\n",
       "      <td>Married</td>\n",
       "      <td>High school graduate</td>\n",
       "      <td>Employed full-time</td>\n",
       "      <td>Less than $10,000</td>\n",
       "      <td>97</td>\n",
       "      <td>5000.0</td>\n",
       "      <td>Adult</td>\n",
       "    </tr>\n",
       "    <tr>\n",
       "      <th>2</th>\n",
       "      <td>32</td>\n",
       "      <td>Male</td>\n",
       "      <td>Mixed race</td>\n",
       "      <td>Never been married</td>\n",
       "      <td>High school graduate</td>\n",
       "      <td>Employed full-time</td>\n",
       "      <td>Less than $10,000</td>\n",
       "      <td>97</td>\n",
       "      <td>5000.0</td>\n",
       "      <td>Adult</td>\n",
       "    </tr>\n",
       "    <tr>\n",
       "      <th>3</th>\n",
       "      <td>27</td>\n",
       "      <td>Male</td>\n",
       "      <td>Mixed race</td>\n",
       "      <td>Married</td>\n",
       "      <td>High school graduate</td>\n",
       "      <td>Employed full-time</td>\n",
       "      <td>$40,000 to under $50,000</td>\n",
       "      <td>97</td>\n",
       "      <td>45000.0</td>\n",
       "      <td>Adult</td>\n",
       "    </tr>\n",
       "    <tr>\n",
       "      <th>4</th>\n",
       "      <td>16</td>\n",
       "      <td>Female</td>\n",
       "      <td>Mixed race</td>\n",
       "      <td>Never been married</td>\n",
       "      <td>High school incomplete</td>\n",
       "      <td>Employed part-time</td>\n",
       "      <td>$10,000 to under $20,000</td>\n",
       "      <td>97</td>\n",
       "      <td>15000.0</td>\n",
       "      <td>Child</td>\n",
       "    </tr>\n",
       "  </tbody>\n",
       "</table>\n",
       "</div>"
      ],
      "text/plain": [
       "   Age  Gender                             Race      Marital status  \\\n",
       "0   66    Male                          Refused            Divorced   \n",
       "1   46    Male  Native American/American Indian             Married   \n",
       "2   32    Male                       Mixed race  Never been married   \n",
       "3   27    Male                       Mixed race             Married   \n",
       "4   16  Female                       Mixed race  Never been married   \n",
       "\n",
       "                Education          Employment                    Income  \\\n",
       "0        College graduate             Retired  $20,000 to under $30,000   \n",
       "1    High school graduate  Employed full-time         Less than $10,000   \n",
       "2    High school graduate  Employed full-time         Less than $10,000   \n",
       "3    High school graduate  Employed full-time  $40,000 to under $50,000   \n",
       "4  High school incomplete  Employed part-time  $10,000 to under $20,000   \n",
       "\n",
       "   Num bks rd last 12 mos  Midpoint Income Age group  \n",
       "0                      97          25000.0    Senior  \n",
       "1                      97           5000.0     Adult  \n",
       "2                      97           5000.0     Adult  \n",
       "3                      97          45000.0     Adult  \n",
       "4                      97          15000.0     Child  "
      ]
     },
     "execution_count": 642,
     "metadata": {},
     "output_type": "execute_result"
    }
   ],
   "source": [
    "read_habit = read_habit.drop(\n",
    "    [\n",
    "    'Read any printed books during last 12months?',\n",
    "    'Read any audiobooks during last 12months?',\n",
    "    'Read any e-books during last 12months?', \n",
    "    'How obtained last bk rd',\n",
    "    'Do you happen to read any daily news or newspapers?',\n",
    "    'Do you happen to read any magazines or journals?'\n",
    "    ],\n",
    "    axis=1\n",
    ")\n",
    "\n",
    "read_habit.head()"
   ]
  },
  {
   "cell_type": "markdown",
   "metadata": {},
   "source": [
    "#### Below the average number of books read per month is calculated and entered into a new columnm, 'Ave books read per month'."
   ]
  },
  {
   "cell_type": "code",
   "execution_count": 643,
   "metadata": {},
   "outputs": [
    {
     "name": "stdout",
     "output_type": "stream",
     "text": [
      "float64\n"
     ]
    },
    {
     "data": {
      "text/html": [
       "<div>\n",
       "<style scoped>\n",
       "    .dataframe tbody tr th:only-of-type {\n",
       "        vertical-align: middle;\n",
       "    }\n",
       "\n",
       "    .dataframe tbody tr th {\n",
       "        vertical-align: top;\n",
       "    }\n",
       "\n",
       "    .dataframe thead th {\n",
       "        text-align: right;\n",
       "    }\n",
       "</style>\n",
       "<table border=\"1\" class=\"dataframe\">\n",
       "  <thead>\n",
       "    <tr style=\"text-align: right;\">\n",
       "      <th></th>\n",
       "      <th>Age</th>\n",
       "      <th>Gender</th>\n",
       "      <th>Race</th>\n",
       "      <th>Marital status</th>\n",
       "      <th>Education</th>\n",
       "      <th>Employment</th>\n",
       "      <th>Income</th>\n",
       "      <th>Num bks rd last 12 mos</th>\n",
       "      <th>Midpoint Income</th>\n",
       "      <th>Age group</th>\n",
       "      <th>Ave books read per month</th>\n",
       "    </tr>\n",
       "  </thead>\n",
       "  <tbody>\n",
       "    <tr>\n",
       "      <th>0</th>\n",
       "      <td>66</td>\n",
       "      <td>Male</td>\n",
       "      <td>Refused</td>\n",
       "      <td>Divorced</td>\n",
       "      <td>College graduate</td>\n",
       "      <td>Retired</td>\n",
       "      <td>$20,000 to under $30,000</td>\n",
       "      <td>97</td>\n",
       "      <td>25000.0</td>\n",
       "      <td>Senior</td>\n",
       "      <td>8.08</td>\n",
       "    </tr>\n",
       "    <tr>\n",
       "      <th>1</th>\n",
       "      <td>46</td>\n",
       "      <td>Male</td>\n",
       "      <td>Native American/American Indian</td>\n",
       "      <td>Married</td>\n",
       "      <td>High school graduate</td>\n",
       "      <td>Employed full-time</td>\n",
       "      <td>Less than $10,000</td>\n",
       "      <td>97</td>\n",
       "      <td>5000.0</td>\n",
       "      <td>Adult</td>\n",
       "      <td>8.08</td>\n",
       "    </tr>\n",
       "    <tr>\n",
       "      <th>2</th>\n",
       "      <td>32</td>\n",
       "      <td>Male</td>\n",
       "      <td>Mixed race</td>\n",
       "      <td>Never been married</td>\n",
       "      <td>High school graduate</td>\n",
       "      <td>Employed full-time</td>\n",
       "      <td>Less than $10,000</td>\n",
       "      <td>97</td>\n",
       "      <td>5000.0</td>\n",
       "      <td>Adult</td>\n",
       "      <td>8.08</td>\n",
       "    </tr>\n",
       "    <tr>\n",
       "      <th>3</th>\n",
       "      <td>27</td>\n",
       "      <td>Male</td>\n",
       "      <td>Mixed race</td>\n",
       "      <td>Married</td>\n",
       "      <td>High school graduate</td>\n",
       "      <td>Employed full-time</td>\n",
       "      <td>$40,000 to under $50,000</td>\n",
       "      <td>97</td>\n",
       "      <td>45000.0</td>\n",
       "      <td>Adult</td>\n",
       "      <td>8.08</td>\n",
       "    </tr>\n",
       "    <tr>\n",
       "      <th>4</th>\n",
       "      <td>16</td>\n",
       "      <td>Female</td>\n",
       "      <td>Mixed race</td>\n",
       "      <td>Never been married</td>\n",
       "      <td>High school incomplete</td>\n",
       "      <td>Employed part-time</td>\n",
       "      <td>$10,000 to under $20,000</td>\n",
       "      <td>97</td>\n",
       "      <td>15000.0</td>\n",
       "      <td>Child</td>\n",
       "      <td>8.08</td>\n",
       "    </tr>\n",
       "  </tbody>\n",
       "</table>\n",
       "</div>"
      ],
      "text/plain": [
       "   Age  Gender                             Race      Marital status  \\\n",
       "0   66    Male                          Refused            Divorced   \n",
       "1   46    Male  Native American/American Indian             Married   \n",
       "2   32    Male                       Mixed race  Never been married   \n",
       "3   27    Male                       Mixed race             Married   \n",
       "4   16  Female                       Mixed race  Never been married   \n",
       "\n",
       "                Education          Employment                    Income  \\\n",
       "0        College graduate             Retired  $20,000 to under $30,000   \n",
       "1    High school graduate  Employed full-time         Less than $10,000   \n",
       "2    High school graduate  Employed full-time         Less than $10,000   \n",
       "3    High school graduate  Employed full-time  $40,000 to under $50,000   \n",
       "4  High school incomplete  Employed part-time  $10,000 to under $20,000   \n",
       "\n",
       "   Num bks rd last 12 mos  Midpoint Income Age group  Ave books read per month  \n",
       "0                      97          25000.0    Senior                      8.08  \n",
       "1                      97           5000.0     Adult                      8.08  \n",
       "2                      97           5000.0     Adult                      8.08  \n",
       "3                      97          45000.0     Adult                      8.08  \n",
       "4                      97          15000.0     Child                      8.08  "
      ]
     },
     "execution_count": 643,
     "metadata": {},
     "output_type": "execute_result"
    }
   ],
   "source": [
    "read_habit['Ave books read per month'] = (read_habit['Num bks rd last 12 mos'] / 12).round(2)\n",
    "\n",
    "print(read_habit['Ave books read per month'].dtype)\n",
    "\n",
    "read_habit.head()"
   ]
  },
  {
   "cell_type": "markdown",
   "metadata": {},
   "source": [
    "#### It was determined above that there are null/NaN values in the data frame. Let's determine in what columns null/NaN values exist in the data frame. "
   ]
  },
  {
   "cell_type": "code",
   "execution_count": 644,
   "metadata": {},
   "outputs": [
    {
     "name": "stdout",
     "output_type": "stream",
     "text": [
      "Age                           0\n",
      "Gender                        0\n",
      "Race                          0\n",
      "Marital status                0\n",
      "Education                    58\n",
      "Employment                    0\n",
      "Income                        0\n",
      "Num bks rd last 12 mos        0\n",
      "Midpoint Income             291\n",
      "Age group                     0\n",
      "Ave books read per month      0\n",
      "dtype: int64\n"
     ]
    }
   ],
   "source": [
    "nan_counts_per_column = read_habit.isna().sum()\n",
    "print(nan_counts_per_column)\n"
   ]
  },
  {
   "cell_type": "markdown",
   "metadata": {},
   "source": [
    "#### Now let's determine in what rows null/NaN values exist in the data frame. "
   ]
  },
  {
   "cell_type": "code",
   "execution_count": 645,
   "metadata": {},
   "outputs": [
    {
     "name": "stdout",
     "output_type": "stream",
     "text": [
      "      Age  Gender   Race      Marital status  \\\n",
      "17     80  Female  White             Widowed   \n",
      "23     77  Female  White             Married   \n",
      "27     73    Male  White             Widowed   \n",
      "34     69  Female  White          Don’t know   \n",
      "37     67    Male  White             Married   \n",
      "...   ...     ...    ...                 ...   \n",
      "2787   32    Male  White             Married   \n",
      "2794   30    Male  White             Married   \n",
      "2805   27    Male  White             Married   \n",
      "2809   26    Male  White             Married   \n",
      "2831   16    Male  White  Never been married   \n",
      "\n",
      "                                              Education            Employment  \\\n",
      "17    Post-graduate training/professional school aft...               Retired   \n",
      "23                                 High school graduate  Not employed for pay   \n",
      "27    Post-graduate training/professional school aft...               Retired   \n",
      "34    Post-graduate training/professional school aft...               Retired   \n",
      "37                       Some college, no 4-year degree               Retired   \n",
      "...                                                 ...                   ...   \n",
      "2787                                                NaN    Employed full-time   \n",
      "2794                               High school graduate    Employed full-time   \n",
      "2805                                                NaN    Employed full-time   \n",
      "2809                               High school graduate    Employed full-time   \n",
      "2831                                         Don’t know  Not employed for pay   \n",
      "\n",
      "                        Income  Num bks rd last 12 mos  Midpoint Income  \\\n",
      "17                     Refused                      97              NaN   \n",
      "23                     Refused                      97              NaN   \n",
      "27                     Refused                      97              NaN   \n",
      "34                     Refused                      97              NaN   \n",
      "37                     Refused                      97              NaN   \n",
      "...                        ...                     ...              ...   \n",
      "2787  $30,000 to under $40,000                       0          35000.0   \n",
      "2794                   Refused                       0              NaN   \n",
      "2805  $10,000 to under $20,000                       0          15000.0   \n",
      "2809                   Refused                       0              NaN   \n",
      "2831                   Refused                       0              NaN   \n",
      "\n",
      "     Age group  Ave books read per month  \n",
      "17      Senior                      8.08  \n",
      "23      Senior                      8.08  \n",
      "27      Senior                      8.08  \n",
      "34      Senior                      8.08  \n",
      "37      Senior                      8.08  \n",
      "...        ...                       ...  \n",
      "2787     Adult                      0.00  \n",
      "2794     Adult                      0.00  \n",
      "2805     Adult                      0.00  \n",
      "2809     Adult                      0.00  \n",
      "2831     Child                      0.00  \n",
      "\n",
      "[345 rows x 11 columns]\n"
     ]
    }
   ],
   "source": [
    "nan_rows = read_habit[read_habit.isna().any(axis=1)]\n",
    "print(nan_rows)\n"
   ]
  },
  {
   "cell_type": "markdown",
   "metadata": {},
   "source": [
    "#### Below we find that the Midpoint Income column is slightly right-skewed, meaning that there are a few higher income values that are pulling the distribution right, but the skew is mild. "
   ]
  },
  {
   "cell_type": "code",
   "execution_count": 646,
   "metadata": {},
   "outputs": [
    {
     "name": "stdout",
     "output_type": "stream",
     "text": [
      "Skewness of income: 0.15802977169345025\n"
     ]
    }
   ],
   "source": [
    "income_skew = read_habit['Midpoint Income'].skew()\n",
    "print(f\"Skewness of income: {income_skew}\")"
   ]
  },
  {
   "cell_type": "markdown",
   "metadata": {},
   "source": [
    "#### Let's drop the rows that contain null/NaN values (where respondent refused to provide their income) from the Midpoint Income column. This represents 291 rows from the 2831 total. Analyst considered using the median income value, but there was concern that the Midpoint Income statistic overview might be skewed by entering the median values. Additionally, 291 represented only 10.2% of dataframe. "
   ]
  },
  {
   "cell_type": "code",
   "execution_count": 647,
   "metadata": {},
   "outputs": [
    {
     "name": "stdout",
     "output_type": "stream",
     "text": [
      "   Age  Gender                             Race      Marital status  \\\n",
      "0   66    Male                          Refused            Divorced   \n",
      "1   46    Male  Native American/American Indian             Married   \n",
      "2   32    Male                       Mixed race  Never been married   \n",
      "3   27    Male                       Mixed race             Married   \n",
      "4   16  Female                       Mixed race  Never been married   \n",
      "\n",
      "                Education          Employment                    Income  \\\n",
      "0        College graduate             Retired  $20,000 to under $30,000   \n",
      "1    High school graduate  Employed full-time         Less than $10,000   \n",
      "2    High school graduate  Employed full-time         Less than $10,000   \n",
      "3    High school graduate  Employed full-time  $40,000 to under $50,000   \n",
      "4  High school incomplete  Employed part-time  $10,000 to under $20,000   \n",
      "\n",
      "   Num bks rd last 12 mos  Midpoint Income Age group  Ave books read per month  \n",
      "0                      97          25000.0    Senior                      8.08  \n",
      "1                      97           5000.0     Adult                      8.08  \n",
      "2                      97           5000.0     Adult                      8.08  \n",
      "3                      97          45000.0     Adult                      8.08  \n",
      "4                      97          15000.0     Child                      8.08  \n"
     ]
    }
   ],
   "source": [
    "read_habit = read_habit.dropna(subset=['Midpoint Income'])\n",
    "\n",
    "print(read_habit.head())"
   ]
  },
  {
   "cell_type": "markdown",
   "metadata": {},
   "source": [
    "#### Let's eliminate the decimal point for the values in midpoint and update the data type to Int64. This couldn't be done sooner, because NaN values were in the column. "
   ]
  },
  {
   "cell_type": "code",
   "execution_count": 648,
   "metadata": {},
   "outputs": [
    {
     "name": "stdout",
     "output_type": "stream",
     "text": [
      "int64\n"
     ]
    },
    {
     "data": {
      "text/html": [
       "<div>\n",
       "<style scoped>\n",
       "    .dataframe tbody tr th:only-of-type {\n",
       "        vertical-align: middle;\n",
       "    }\n",
       "\n",
       "    .dataframe tbody tr th {\n",
       "        vertical-align: top;\n",
       "    }\n",
       "\n",
       "    .dataframe thead th {\n",
       "        text-align: right;\n",
       "    }\n",
       "</style>\n",
       "<table border=\"1\" class=\"dataframe\">\n",
       "  <thead>\n",
       "    <tr style=\"text-align: right;\">\n",
       "      <th></th>\n",
       "      <th>Age</th>\n",
       "      <th>Gender</th>\n",
       "      <th>Race</th>\n",
       "      <th>Marital status</th>\n",
       "      <th>Education</th>\n",
       "      <th>Employment</th>\n",
       "      <th>Income</th>\n",
       "      <th>Num bks rd last 12 mos</th>\n",
       "      <th>Midpoint Income</th>\n",
       "      <th>Age group</th>\n",
       "      <th>Ave books read per month</th>\n",
       "    </tr>\n",
       "  </thead>\n",
       "  <tbody>\n",
       "    <tr>\n",
       "      <th>0</th>\n",
       "      <td>66</td>\n",
       "      <td>Male</td>\n",
       "      <td>Refused</td>\n",
       "      <td>Divorced</td>\n",
       "      <td>College graduate</td>\n",
       "      <td>Retired</td>\n",
       "      <td>$20,000 to under $30,000</td>\n",
       "      <td>97</td>\n",
       "      <td>25000</td>\n",
       "      <td>Senior</td>\n",
       "      <td>8.08</td>\n",
       "    </tr>\n",
       "    <tr>\n",
       "      <th>1</th>\n",
       "      <td>46</td>\n",
       "      <td>Male</td>\n",
       "      <td>Native American/American Indian</td>\n",
       "      <td>Married</td>\n",
       "      <td>High school graduate</td>\n",
       "      <td>Employed full-time</td>\n",
       "      <td>Less than $10,000</td>\n",
       "      <td>97</td>\n",
       "      <td>5000</td>\n",
       "      <td>Adult</td>\n",
       "      <td>8.08</td>\n",
       "    </tr>\n",
       "    <tr>\n",
       "      <th>2</th>\n",
       "      <td>32</td>\n",
       "      <td>Male</td>\n",
       "      <td>Mixed race</td>\n",
       "      <td>Never been married</td>\n",
       "      <td>High school graduate</td>\n",
       "      <td>Employed full-time</td>\n",
       "      <td>Less than $10,000</td>\n",
       "      <td>97</td>\n",
       "      <td>5000</td>\n",
       "      <td>Adult</td>\n",
       "      <td>8.08</td>\n",
       "    </tr>\n",
       "    <tr>\n",
       "      <th>3</th>\n",
       "      <td>27</td>\n",
       "      <td>Male</td>\n",
       "      <td>Mixed race</td>\n",
       "      <td>Married</td>\n",
       "      <td>High school graduate</td>\n",
       "      <td>Employed full-time</td>\n",
       "      <td>$40,000 to under $50,000</td>\n",
       "      <td>97</td>\n",
       "      <td>45000</td>\n",
       "      <td>Adult</td>\n",
       "      <td>8.08</td>\n",
       "    </tr>\n",
       "    <tr>\n",
       "      <th>4</th>\n",
       "      <td>16</td>\n",
       "      <td>Female</td>\n",
       "      <td>Mixed race</td>\n",
       "      <td>Never been married</td>\n",
       "      <td>High school incomplete</td>\n",
       "      <td>Employed part-time</td>\n",
       "      <td>$10,000 to under $20,000</td>\n",
       "      <td>97</td>\n",
       "      <td>15000</td>\n",
       "      <td>Child</td>\n",
       "      <td>8.08</td>\n",
       "    </tr>\n",
       "  </tbody>\n",
       "</table>\n",
       "</div>"
      ],
      "text/plain": [
       "   Age  Gender                             Race      Marital status  \\\n",
       "0   66    Male                          Refused            Divorced   \n",
       "1   46    Male  Native American/American Indian             Married   \n",
       "2   32    Male                       Mixed race  Never been married   \n",
       "3   27    Male                       Mixed race             Married   \n",
       "4   16  Female                       Mixed race  Never been married   \n",
       "\n",
       "                Education          Employment                    Income  \\\n",
       "0        College graduate             Retired  $20,000 to under $30,000   \n",
       "1    High school graduate  Employed full-time         Less than $10,000   \n",
       "2    High school graduate  Employed full-time         Less than $10,000   \n",
       "3    High school graduate  Employed full-time  $40,000 to under $50,000   \n",
       "4  High school incomplete  Employed part-time  $10,000 to under $20,000   \n",
       "\n",
       "   Num bks rd last 12 mos  Midpoint Income Age group  Ave books read per month  \n",
       "0                      97            25000    Senior                      8.08  \n",
       "1                      97             5000     Adult                      8.08  \n",
       "2                      97             5000     Adult                      8.08  \n",
       "3                      97            45000     Adult                      8.08  \n",
       "4                      97            15000     Child                      8.08  "
      ]
     },
     "execution_count": 648,
     "metadata": {},
     "output_type": "execute_result"
    }
   ],
   "source": [
    "read_habit['Midpoint Income'] = read_habit['Midpoint Income'].astype('int64')\n",
    "\n",
    "print(read_habit['Midpoint Income'].dtype)\n",
    "\n",
    "read_habit.head()"
   ]
  },
  {
   "cell_type": "code",
   "execution_count": 649,
   "metadata": {},
   "outputs": [
    {
     "data": {
      "text/plain": [
       "<bound method IndexOpsMixin.value_counts of 0        25000\n",
       "1         5000\n",
       "2         5000\n",
       "3        45000\n",
       "4        15000\n",
       "         ...  \n",
       "2826      5000\n",
       "2827     87500\n",
       "2828     35000\n",
       "2829    125000\n",
       "2830    125000\n",
       "Name: Midpoint Income, Length: 2541, dtype: int64>"
      ]
     },
     "execution_count": 649,
     "metadata": {},
     "output_type": "execute_result"
    }
   ],
   "source": [
    "read_habit['Midpoint Income'].value_counts"
   ]
  },
  {
   "cell_type": "markdown",
   "metadata": {},
   "source": [
    "#### Below it is determined that there are 54 NaN values in the Education column. "
   ]
  },
  {
   "cell_type": "code",
   "execution_count": 650,
   "metadata": {},
   "outputs": [
    {
     "name": "stdout",
     "output_type": "stream",
     "text": [
      "Age                          0\n",
      "Gender                       0\n",
      "Race                         0\n",
      "Marital status               0\n",
      "Education                   54\n",
      "Employment                   0\n",
      "Income                       0\n",
      "Num bks rd last 12 mos       0\n",
      "Midpoint Income              0\n",
      "Age group                    0\n",
      "Ave books read per month     0\n",
      "dtype: int64\n"
     ]
    }
   ],
   "source": [
    "nan_counts_per_column = read_habit.isna().sum()\n",
    "print(nan_counts_per_column)\n"
   ]
  },
  {
   "cell_type": "markdown",
   "metadata": {},
   "source": [
    "#### In the Education column the Nan values will be replaced with 'No response' to clean the data. 'No response' filling was  chosen versus deleting the rows as the values are not numerical and another object/string value can be used to account for the NaN rows. "
   ]
  },
  {
   "cell_type": "code",
   "execution_count": 651,
   "metadata": {},
   "outputs": [],
   "source": [
    "read_habit['Education'] = read_habit['Education'].fillna('No response')\n",
    "\n"
   ]
  },
  {
   "cell_type": "markdown",
   "metadata": {},
   "source": [
    "#### Below checks to ensure that the NaN values have been replaced wtih 'No response' in the Education column. "
   ]
  },
  {
   "cell_type": "code",
   "execution_count": 652,
   "metadata": {},
   "outputs": [
    {
     "name": "stdout",
     "output_type": "stream",
     "text": [
      "Age                         0\n",
      "Gender                      0\n",
      "Race                        0\n",
      "Marital status              0\n",
      "Education                   0\n",
      "Employment                  0\n",
      "Income                      0\n",
      "Num bks rd last 12 mos      0\n",
      "Midpoint Income             0\n",
      "Age group                   0\n",
      "Ave books read per month    0\n",
      "dtype: int64\n"
     ]
    }
   ],
   "source": [
    "nan_counts_per_column = read_habit.isna().sum()\n",
    "print(nan_counts_per_column)"
   ]
  },
  {
   "cell_type": "markdown",
   "metadata": {},
   "source": [
    "#### Below checks that all the cells are now non-null values. "
   ]
  },
  {
   "cell_type": "code",
   "execution_count": 653,
   "metadata": {},
   "outputs": [
    {
     "name": "stdout",
     "output_type": "stream",
     "text": [
      "<class 'pandas.core.frame.DataFrame'>\n",
      "Index: 2541 entries, 0 to 2830\n",
      "Data columns (total 11 columns):\n",
      " #   Column                    Non-Null Count  Dtype  \n",
      "---  ------                    --------------  -----  \n",
      " 0   Age                       2541 non-null   int64  \n",
      " 1   Gender                    2541 non-null   object \n",
      " 2   Race                      2541 non-null   object \n",
      " 3   Marital status            2541 non-null   object \n",
      " 4   Education                 2541 non-null   object \n",
      " 5   Employment                2541 non-null   object \n",
      " 6   Income                    2541 non-null   object \n",
      " 7   Num bks rd last 12 mos    2541 non-null   int64  \n",
      " 8   Midpoint Income           2541 non-null   int64  \n",
      " 9   Age group                 2541 non-null   object \n",
      " 10  Ave books read per month  2541 non-null   float64\n",
      "dtypes: float64(1), int64(3), object(7)\n",
      "memory usage: 238.2+ KB\n"
     ]
    }
   ],
   "source": [
    "read_habit.info()\n",
    "\n"
   ]
  },
  {
   "cell_type": "markdown",
   "metadata": {},
   "source": [
    "#### Let's take another look at the descriptive stats for the data frame now that the cleaning and adjustments to data have been completed. "
   ]
  },
  {
   "cell_type": "code",
   "execution_count": 654,
   "metadata": {},
   "outputs": [
    {
     "name": "stdout",
     "output_type": "stream",
     "text": [
      "The cleaned Dataframe has 2541 rows and 11 columns.\n"
     ]
    }
   ],
   "source": [
    "df_end_shape = read_habit.shape\n",
    "\n",
    "print(f'The cleaned Dataframe has {df_end_shape[0]} rows and {df_end_shape[1]} columns.')"
   ]
  },
  {
   "cell_type": "markdown",
   "metadata": {},
   "source": [
    "#### Here is a plot of age versus number of books read per month."
   ]
  },
  {
   "cell_type": "code",
   "execution_count": 655,
   "metadata": {},
   "outputs": [
    {
     "data": {
      "image/png": "[encoded data removed]",
      "text/plain": [
       "<Figure size 800x600 with 1 Axes>"
      ]
     },
     "metadata": {},
     "output_type": "display_data"
    }
   ],
   "source": [
    "avg_books_per_age = read_habit.groupby('Age group')['Ave books read per month'].mean()\n",
    "\n",
    "plt.figure(figsize=(8, 6))\n",
    "avg_books_per_age.plot(kind = 'bar', color = 'skyblue')\n",
    "plt.title('Age Group versus Books Read per Month')\n",
    "plt.xlabel('Age Group')\n",
    "plt.ylabel('Number of Books')\n",
    "plt.xticks(rotation=0)\n",
    "plt.show()"
   ]
  },
  {
   "cell_type": "markdown",
   "metadata": {},
   "source": [
    "#### Below an ANOVA test was completed to compare average books read per month wtih education level and it was determined that there is a statistically significant diference in the average number of books read per month based on age group"
   ]
  },
  {
   "cell_type": "code",
   "execution_count": 656,
   "metadata": {},
   "outputs": [
    {
     "name": "stdout",
     "output_type": "stream",
     "text": [
      "F-statistic: 5.992083524606975\n",
      "P-value: 0.002533937379495984\n",
      "There is a significant differece in the number of books read per month based on age group.\n"
     ]
    }
   ],
   "source": [
    "groups = [group['Ave books read per month'].values for name, group in read_habit.groupby('Age group')]\n",
    "\n",
    "f_statistic, p_value = stats.f_oneway(*groups)\n",
    "\n",
    "print(f\"F-statistic: {f_statistic}\")\n",
    "print(f\"P-value: {p_value}\")\n",
    "\n",
    "if p_value < 0.05:\n",
    "    print(\"There is a significant differece in the number of books read per month based on age group.\")\n",
    "else:\n",
    "    print(\"There is no significant diference in the number of books read per month based on age group.\")"
   ]
  },
  {
   "cell_type": "markdown",
   "metadata": {},
   "source": [
    "#### Below is the calculation of the Pearson correlation coefficient for Age to Average books read per month. The coefficient is close to zero therefore there is no meaningful correlation between age adn average books read per month. "
   ]
  },
  {
   "cell_type": "code",
   "execution_count": 657,
   "metadata": {},
   "outputs": [
    {
     "data": {
      "text/html": [
       "<div>\n",
       "<style scoped>\n",
       "    .dataframe tbody tr th:only-of-type {\n",
       "        vertical-align: middle;\n",
       "    }\n",
       "\n",
       "    .dataframe tbody tr th {\n",
       "        vertical-align: top;\n",
       "    }\n",
       "\n",
       "    .dataframe thead th {\n",
       "        text-align: right;\n",
       "    }\n",
       "</style>\n",
       "<table border=\"1\" class=\"dataframe\">\n",
       "  <thead>\n",
       "    <tr style=\"text-align: right;\">\n",
       "      <th></th>\n",
       "      <th>Age</th>\n",
       "      <th>Ave books read per month</th>\n",
       "    </tr>\n",
       "  </thead>\n",
       "  <tbody>\n",
       "    <tr>\n",
       "      <th>Age</th>\n",
       "      <td>1.000000</td>\n",
       "      <td>0.059526</td>\n",
       "    </tr>\n",
       "    <tr>\n",
       "      <th>Ave books read per month</th>\n",
       "      <td>0.059526</td>\n",
       "      <td>1.000000</td>\n",
       "    </tr>\n",
       "  </tbody>\n",
       "</table>\n",
       "</div>"
      ],
      "text/plain": [
       "                               Age  Ave books read per month\n",
       "Age                       1.000000                  0.059526\n",
       "Ave books read per month  0.059526                  1.000000"
      ]
     },
     "execution_count": 657,
     "metadata": {},
     "output_type": "execute_result"
    }
   ],
   "source": [
    "read_habit[['Age', 'Ave books read per month']].corr(method='pearson')\n"
   ]
  },
  {
   "cell_type": "markdown",
   "metadata": {},
   "source": [
    "#### Here is a plot of income versus after books read per month."
   ]
  },
  {
   "cell_type": "code",
   "execution_count": 658,
   "metadata": {},
   "outputs": [
    {
     "data": {
      "image/png": "[encoded data removed]",
      "text/plain": [
       "<Figure size 800x600 with 1 Axes>"
      ]
     },
     "metadata": {},
     "output_type": "display_data"
    }
   ],
   "source": [
    "avg_books_per_midpoint_income = read_habit.groupby('Midpoint Income')['Ave books read per month'].mean()\n",
    "\n",
    "plt.figure(figsize=(8, 6))\n",
    "avg_books_per_midpoint_income.plot(kind = 'bar', color = 'skyblue')\n",
    "plt.title('Income versus Average Books Read per Month')\n",
    "plt.xlabel('Income in Dollars')\n",
    "plt.ylabel('Number of Books')\n",
    "plt.xticks(rotation=45)\n",
    "plt.show()"
   ]
  },
  {
   "cell_type": "markdown",
   "metadata": {},
   "source": [
    "#### Below is the Pearson Correlation for Midpoint Income to Average Books Read per Month. The Pearson correlation coefficient is close to zero, meaning that income does not seem to predict how many books people read per month. "
   ]
  },
  {
   "cell_type": "code",
   "execution_count": 659,
   "metadata": {},
   "outputs": [
    {
     "data": {
      "text/html": [
       "<div>\n",
       "<style scoped>\n",
       "    .dataframe tbody tr th:only-of-type {\n",
       "        vertical-align: middle;\n",
       "    }\n",
       "\n",
       "    .dataframe tbody tr th {\n",
       "        vertical-align: top;\n",
       "    }\n",
       "\n",
       "    .dataframe thead th {\n",
       "        text-align: right;\n",
       "    }\n",
       "</style>\n",
       "<table border=\"1\" class=\"dataframe\">\n",
       "  <thead>\n",
       "    <tr style=\"text-align: right;\">\n",
       "      <th></th>\n",
       "      <th>Midpoint Income</th>\n",
       "      <th>Ave books read per month</th>\n",
       "    </tr>\n",
       "  </thead>\n",
       "  <tbody>\n",
       "    <tr>\n",
       "      <th>Midpoint Income</th>\n",
       "      <td>1.000000</td>\n",
       "      <td>0.064807</td>\n",
       "    </tr>\n",
       "    <tr>\n",
       "      <th>Ave books read per month</th>\n",
       "      <td>0.064807</td>\n",
       "      <td>1.000000</td>\n",
       "    </tr>\n",
       "  </tbody>\n",
       "</table>\n",
       "</div>"
      ],
      "text/plain": [
       "                          Midpoint Income  Ave books read per month\n",
       "Midpoint Income                  1.000000                  0.064807\n",
       "Ave books read per month         0.064807                  1.000000"
      ]
     },
     "execution_count": 659,
     "metadata": {},
     "output_type": "execute_result"
    }
   ],
   "source": [
    "read_habit[['Midpoint Income', 'Ave books read per month']].corr(method='pearson')\n"
   ]
  },
  {
   "cell_type": "markdown",
   "metadata": {},
   "source": [
    "#### Below a dictionary of shortened labels for use in bar chart was created. A plot of education versus average books read per month is created with the shortened labels. "
   ]
  },
  {
   "cell_type": "code",
   "execution_count": 660,
   "metadata": {},
   "outputs": [
    {
     "name": "stdout",
     "output_type": "stream",
     "text": [
      "{'College graduate': 'Undergrad', 'High school graduate': 'H.S.', 'High school incomplete': 'H.S. incomplete', 'Post-graduate training/professional school after college': 'Grad School', 'Some college, no 4-year degree': 'Some college', 'Technical, trade or vocational school AFTER high school': 'Trade school', \"Don't know\": 'Unknown', 'No response': 'No response'}\n"
     ]
    }
   ],
   "source": [
    "short_labels = {\n",
    "    'College graduate' : 'Undergrad',\n",
    "    'High school graduate' : 'H.S.',\n",
    "    'High school incomplete' : 'H.S. incomplete',\n",
    "    'Post-graduate training/professional school after college' : 'Grad School',\n",
    "    'Some college, no 4-year degree' : 'Some college',\n",
    "    'Technical, trade or vocational school AFTER high school' : 'Trade school',\n",
    "    'Don\\'t know' : 'Unknown',\n",
    "    'No response' : 'No response'\n",
    "}\n",
    "\n",
    "read_habit['Education'] = read_habit['Education'].str.strip() \n",
    "\n",
    "print(short_labels)"
   ]
  },
  {
   "cell_type": "code",
   "execution_count": 661,
   "metadata": {},
   "outputs": [
    {
     "data": {
      "image/png": "[encoded data removed]",
      "text/plain": [
       "<Figure size 800x600 with 1 Axes>"
      ]
     },
     "metadata": {},
     "output_type": "display_data"
    }
   ],
   "source": [
    "avg_books_per_education = read_habit.groupby('Education')['Ave books read per month'].mean()\n",
    "\n",
    "shortened_labels = avg_books_per_education.index.map(short_labels).fillna('Unknown')\n",
    "\n",
    "plt.figure(figsize=(8, 6))\n",
    "avg_books_per_education.plot(kind = 'bar', color = 'skyblue')\n",
    "plt.title('Education Level versus Average Number Books Read per Month')\n",
    "plt.xlabel('Education Level')\n",
    "plt.ylabel('Number of Books')\n",
    "plt.xticks(ticks=range(len(shortened_labels)), labels=shortened_labels, rotation=45)\n",
    "plt.show()"
   ]
  },
  {
   "cell_type": "markdown",
   "metadata": {},
   "source": [
    "#### Below an ANOVA test was completed to compare average books read per month wtih education level and it was determined that there is a statistically significant diference in the average number of books read per month based on educational level. "
   ]
  },
  {
   "cell_type": "code",
   "execution_count": 662,
   "metadata": {},
   "outputs": [
    {
     "name": "stdout",
     "output_type": "stream",
     "text": [
      "F-statistic: 11.802362349297741\n",
      "P-value: 7.210708267923423e-15\n",
      "There is a significant differece in the number of books read per month based on educational level.\n"
     ]
    }
   ],
   "source": [
    "groups = [group['Ave books read per month'].values for name, group in read_habit.groupby('Education')]\n",
    "\n",
    "f_statistic, p_value = stats.f_oneway(*groups)\n",
    "\n",
    "print(f\"F-statistic: {f_statistic}\")\n",
    "print(f\"P-value: {p_value}\")\n",
    "\n",
    "if p_value < 0.05:\n",
    "    print(\"There is a significant differece in the number of books read per month based on educational level.\")\n",
    "else:\n",
    "    print(\"There is no significant diference in the number of books read per month based on educational level.\")"
   ]
  },
  {
   "cell_type": "markdown",
   "metadata": {},
   "source": [
    "#### Again a dictionary with shortened labels was created for the Marital Status column. Here is a plot of marital status versus average number of books read per month."
   ]
  },
  {
   "cell_type": "code",
   "execution_count": 663,
   "metadata": {},
   "outputs": [
    {
     "name": "stdout",
     "output_type": "stream",
     "text": [
      "{'Living with a partner': 'Cohabitating', 'Never been married': 'Never married', \"Don't know\": 'Unknown', 'Divorced': 'Divorced', 'Married': 'Married', 'Single': 'Single', 'Separated': 'Separated', 'Widowed': 'Widowed'}\n"
     ]
    }
   ],
   "source": [
    "short_labels_marital = {\n",
    "    'Living with a partner' : 'Cohabitating',\n",
    "    'Never been married' : 'Never married',\n",
    "    'Don\\'t know' : 'Unknown',\n",
    "    'Divorced' : 'Divorced',\n",
    "    'Married' : 'Married',\n",
    "    'Single' : 'Single',\n",
    "    'Separated' : 'Separated',\n",
    "    'Widowed' : 'Widowed'\n",
    "}\n",
    "\n",
    "print(short_labels_marital)\n"
   ]
  },
  {
   "cell_type": "code",
   "execution_count": 664,
   "metadata": {},
   "outputs": [
    {
     "data": {
      "image/png": "[encoded data removed]",
      "text/plain": [
       "<Figure size 800x600 with 1 Axes>"
      ]
     },
     "metadata": {},
     "output_type": "display_data"
    }
   ],
   "source": [
    "avg_books_per_marital_status = read_habit.groupby('Marital status')['Ave books read per month'].mean()\n",
    "\n",
    "shortened_labels_marital = avg_books_per_marital_status.index.map(short_labels_marital).fillna('Unknown')\n",
    "\n",
    "plt.figure(figsize=(8, 6))\n",
    "avg_books_per_marital_status.plot(kind = 'bar', color = 'skyblue')\n",
    "plt.title('Marital Status versus Average Books Read per Month')\n",
    "plt.xlabel('Marital Status')\n",
    "plt.ylabel('Number of Books')\n",
    "plt.xticks(ticks=range(len(shortened_labels_marital)), labels=shortened_labels_marital, rotation=45)\n",
    "plt.show()"
   ]
  },
  {
   "cell_type": "markdown",
   "metadata": {},
   "source": [
    "#### Below an ANOVA test was completed to compare average books read per month wtih education level and it was determined that there is no statistically significant diference in the average number of books read per month based on marital status. "
   ]
  },
  {
   "cell_type": "code",
   "execution_count": 665,
   "metadata": {},
   "outputs": [
    {
     "name": "stdout",
     "output_type": "stream",
     "text": [
      "F-statistic: 1.3828350369133562\n",
      "P-value: 0.20800124978897028\n",
      "There is no significant diference in the number of books read per month based on marital status.\n"
     ]
    }
   ],
   "source": [
    "groups = [group['Ave books read per month'].values for name, group in read_habit.groupby('Marital status')]\n",
    "\n",
    "f_statistic, p_value = stats.f_oneway(*groups)\n",
    "\n",
    "print(f\"F-statistic: {f_statistic}\")\n",
    "print(f\"P-value: {p_value}\")\n",
    "\n",
    "if p_value < 0.05:\n",
    "    print(\"There is a significant differece in the number of books read per month based on marital status.\")\n",
    "else:\n",
    "    print(\"There is no significant diference in the number of books read per month based on marital status.\")"
   ]
  },
  {
   "cell_type": "code",
   "execution_count": 666,
   "metadata": {},
   "outputs": [
    {
     "name": "stdout",
     "output_type": "stream",
     "text": [
      "{'Disabled': 'Disabled', 'Employed full-time': 'Full-time', 'Employed part-time': 'Part-time', 'Have own business/self-employed': 'Self-employed', 'Other': 'Other', 'Retired': 'Retired', 'Student': 'Student'}\n"
     ]
    }
   ],
   "source": [
    "short_labels_employment = {\n",
    "    'Disabled' : 'Disabled',\n",
    "    'Employed full-time' : 'Full-time',\n",
    "    'Employed part-time' : 'Part-time',\n",
    "    'Have own business/self-employed' : 'Self-employed',\n",
    "    'Other' : 'Other',\n",
    "    'Retired' : 'Retired',\n",
    "    'Student' : 'Student',\n",
    "}\n",
    "\n",
    "print(short_labels_employment)"
   ]
  },
  {
   "cell_type": "code",
   "execution_count": 667,
   "metadata": {},
   "outputs": [
    {
     "data": {
      "image/png": "[encoded data removed]",
      "text/plain": [
       "<Figure size 800x600 with 1 Axes>"
      ]
     },
     "metadata": {},
     "output_type": "display_data"
    }
   ],
   "source": [
    "avg_books_per_employment = read_habit.groupby('Employment')['Ave books read per month'].mean()\n",
    "\n",
    "shortened_labels_employment = avg_books_per_employment.index.map(short_labels_employment)\n",
    "\n",
    "plt.figure(figsize=(8, 6))\n",
    "avg_books_per_employment.plot(kind = 'bar', color = 'skyblue')\n",
    "plt.title('Employment Status versus Average Books Read per Month')\n",
    "plt.xlabel('Employment')\n",
    "plt.ylabel('Number of Books')\n",
    "plt.xticks(ticks=range(len(shortened_labels_employment)), labels=shortened_labels_employment, rotation=45)\n",
    "plt.show()"
   ]
  },
  {
   "cell_type": "markdown",
   "metadata": {},
   "source": [
    "#### Below an ANOVA test was completed to compare average books read per month wtih education level and it was determined that there is a statistically significant diference in the average number of books read per month based on employment status. "
   ]
  },
  {
   "cell_type": "code",
   "execution_count": 668,
   "metadata": {},
   "outputs": [
    {
     "name": "stdout",
     "output_type": "stream",
     "text": [
      "F-statistic: 4.074906874424286\n",
      "P-value: 0.00018660609070901888\n",
      "There is a significant differece in the number of books read per month based on employment status.\n"
     ]
    }
   ],
   "source": [
    "groups = [group['Ave books read per month'].values for name, group in read_habit.groupby('Employment')]\n",
    "\n",
    "f_statistic, p_value = stats.f_oneway(*groups)\n",
    "\n",
    "print(f\"F-statistic: {f_statistic}\")\n",
    "print(f\"P-value: {p_value}\")\n",
    "\n",
    "if p_value < 0.05:\n",
    "    print(\"There is a significant differece in the number of books read per month based on employment status.\")\n",
    "else:\n",
    "    print(\"There is no significant diference in the number of books read per month based on employment status.\")"
   ]
  },
  {
   "cell_type": "code",
   "execution_count": 669,
   "metadata": {},
   "outputs": [
    {
     "data": {
      "image/png": "[encoded data removed]",
      "text/plain": [
       "<Figure size 1000x600 with 1 Axes>"
      ]
     },
     "metadata": {},
     "output_type": "display_data"
    }
   ],
   "source": [
    "plt.figure(figsize=(10, 6))\n",
    "sns.barplot(data=read_habit, x='Age group', y='Ave books read per month', hue='Midpoint Income', palette='Set1')\n",
    "plt.title('Age vs Books Read per Month by Income Level')\n",
    "plt.xlabel('Age')\n",
    "plt.ylabel('Books Read per Month')\n",
    "plt.legend(title='Income Level')\n",
    "plt.xticks(rotation=90)  # Rotates the x-axis labels if needed\n",
    "plt.show()\n"
   ]
  },
  {
   "cell_type": "markdown",
   "metadata": {},
   "source": [
    "#### Below the Pearson correlation coefficient between age and number of books read per month is found to be weak across all income levels. Meaning there doesn't seem to be a strong pattern in the data. "
   ]
  },
  {
   "cell_type": "code",
   "execution_count": 670,
   "metadata": {},
   "outputs": [
    {
     "data": {
      "text/html": [
       "<div>\n",
       "<style scoped>\n",
       "    .dataframe tbody tr th:only-of-type {\n",
       "        vertical-align: middle;\n",
       "    }\n",
       "\n",
       "    .dataframe tbody tr th {\n",
       "        vertical-align: top;\n",
       "    }\n",
       "\n",
       "    .dataframe thead th {\n",
       "        text-align: right;\n",
       "    }\n",
       "</style>\n",
       "<table border=\"1\" class=\"dataframe\">\n",
       "  <thead>\n",
       "    <tr style=\"text-align: right;\">\n",
       "      <th></th>\n",
       "      <th>Income</th>\n",
       "      <th>Pearson Correlation</th>\n",
       "    </tr>\n",
       "  </thead>\n",
       "  <tbody>\n",
       "    <tr>\n",
       "      <th>0</th>\n",
       "      <td>5000</td>\n",
       "      <td>-0.190177</td>\n",
       "    </tr>\n",
       "    <tr>\n",
       "      <th>1</th>\n",
       "      <td>15000</td>\n",
       "      <td>-0.071632</td>\n",
       "    </tr>\n",
       "    <tr>\n",
       "      <th>2</th>\n",
       "      <td>25000</td>\n",
       "      <td>0.064729</td>\n",
       "    </tr>\n",
       "    <tr>\n",
       "      <th>3</th>\n",
       "      <td>35000</td>\n",
       "      <td>0.116194</td>\n",
       "    </tr>\n",
       "    <tr>\n",
       "      <th>4</th>\n",
       "      <td>45000</td>\n",
       "      <td>0.018174</td>\n",
       "    </tr>\n",
       "    <tr>\n",
       "      <th>5</th>\n",
       "      <td>62500</td>\n",
       "      <td>0.096932</td>\n",
       "    </tr>\n",
       "    <tr>\n",
       "      <th>6</th>\n",
       "      <td>87500</td>\n",
       "      <td>0.112318</td>\n",
       "    </tr>\n",
       "    <tr>\n",
       "      <th>7</th>\n",
       "      <td>125000</td>\n",
       "      <td>0.113975</td>\n",
       "    </tr>\n",
       "  </tbody>\n",
       "</table>\n",
       "</div>"
      ],
      "text/plain": [
       "   Income  Pearson Correlation\n",
       "0    5000            -0.190177\n",
       "1   15000            -0.071632\n",
       "2   25000             0.064729\n",
       "3   35000             0.116194\n",
       "4   45000             0.018174\n",
       "5   62500             0.096932\n",
       "6   87500             0.112318\n",
       "7  125000             0.113975"
      ]
     },
     "execution_count": 670,
     "metadata": {},
     "output_type": "execute_result"
    }
   ],
   "source": [
    "income_groups = read_habit.groupby('Midpoint Income')\n",
    "\n",
    "correlations = {}\n",
    "\n",
    "for income, group in income_groups:\n",
    "    correlation, _ = pearsonr(group['Age'], group['Ave books read per month'])\n",
    "    correlations[income] = correlation\n",
    "\n",
    "correlation_df = pd.DataFrame(list(correlations.items()), columns=['Income', 'Pearson Correlation'])\n",
    "\n",
    "correlation_df"
   ]
  },
  {
   "cell_type": "code",
   "execution_count": 671,
   "metadata": {},
   "outputs": [
    {
     "data": {
      "image/png": "[encoded data removed]",
      "text/plain": [
       "<Figure size 1000x600 with 1 Axes>"
      ]
     },
     "metadata": {},
     "output_type": "display_data"
    }
   ],
   "source": [
    "plt.figure(figsize=(10, 6))\n",
    "sns.barplot(data=read_habit, x='Age group', y='Ave books read per month', hue='Education', palette='Set1')\n",
    "plt.title('Age vs Books Read per Month by Education')\n",
    "plt.xlabel('Age')\n",
    "plt.ylabel('Books Read per Month')\n",
    "plt.legend(title='Education')\n",
    "plt.xticks(rotation=90)  # Rotates the x-axis labels if needed\n",
    "plt.show()\n"
   ]
  },
  {
   "cell_type": "code",
   "execution_count": 672,
   "metadata": {},
   "outputs": [
    {
     "data": {
      "image/png": "[encoded data removed]",
      "text/plain": [
       "<Figure size 1000x600 with 1 Axes>"
      ]
     },
     "metadata": {},
     "output_type": "display_data"
    }
   ],
   "source": [
    "plt.figure(figsize=(10, 6))\n",
    "sns.barplot(data=read_habit, x='Age group', y='Ave books read per month', hue='Employment', palette='Set1')\n",
    "plt.title('Age vs Books Read per Month by Employment STatusl')\n",
    "plt.xlabel('Age')\n",
    "plt.ylabel('Books Read per Month')\n",
    "plt.legend(title='Employment')\n",
    "plt.xticks(rotation=90)  # Rotates the x-axis labels if needed\n",
    "plt.show()\n"
   ]
  },
  {
   "cell_type": "code",
   "execution_count": 673,
   "metadata": {},
   "outputs": [
    {
     "data": {
      "image/png": "[encoded data removed]",
      "text/plain": [
       "<Figure size 1000x600 with 1 Axes>"
      ]
     },
     "metadata": {},
     "output_type": "display_data"
    }
   ],
   "source": [
    "plt.figure(figsize=(10, 6))\n",
    "sns.barplot(data=read_habit, x='Age group', y='Ave books read per month', hue='Marital status', palette='Set1')\n",
    "plt.title('Age vs Books Read per Month by Marital Status')\n",
    "plt.xlabel('Age')\n",
    "plt.ylabel('Books Read per Month')\n",
    "plt.legend(title='Marital status')\n",
    "plt.xticks(rotation=90)  # Rotates the x-axis labels if needed\n",
    "plt.show()\n"
   ]
  },
  {
   "cell_type": "markdown",
   "metadata": {},
   "source": [
    "#### Conclusions"
   ]
  }
 ],
 "metadata": {
  "kernelspec": {
   "display_name": "Python 3",
   "language": "python",
   "name": "python3"
  },
  "language_info": {
   "codemirror_mode": {
    "name": "ipython",
    "version": 3
   },
   "file_extension": ".py",
   "mimetype": "text/x-python",
   "name": "python",
   "nbconvert_exporter": "python",
   "pygments_lexer": "ipython3",
   "version": "3.11.9"
  }
 },
 "nbformat": 4,
 "nbformat_minor": 2
}
